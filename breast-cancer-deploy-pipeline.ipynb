{
  "cells": [
    {
      "cell_type": "code",
      "execution_count": 39,
      "metadata": {
        "gather": {
          "logged": 1662485497032
        }
      },
      "outputs": [],
      "source": [
        "# https://github.com/Azure/MachineLearningNotebooks/blob/master/how-to-use-azureml/deployment/deploy-to-cloud/model-register-and-deploy.ipynb\n",
        "# https://github.com/Azure/MachineLearningNotebooks/blob/master/how-to-use-azureml/deployment/deploy-to-local/register-model-deploy-local-advanced.ipynb\n",
        "\n",
        "from azureml.core import  Workspace\n",
        "from azureml.core.authentication import InteractiveLoginAuthentication\n",
        "\n",
        "from azureml.core.environment import Environment \n",
        "from azureml.core.webservice import AciWebservice,Webservice\n",
        "from azureml.core.model import Model,InferenceConfig\n",
        "\n",
        "interactive_auth = InteractiveLoginAuthentication(tenant_id=\"9ce70869-60db-44fd-abe8-d2767077fc8f\")\n",
        "ws = Workspace.from_config()\n"
      ]
    },
    {
      "cell_type": "code",
      "execution_count": 40,
      "metadata": {
        "gather": {
          "logged": 1662485497184
        },
        "jupyter": {
          "outputs_hidden": false,
          "source_hidden": false
        },
        "nteract": {
          "transient": {
            "deleting": false
          }
        }
      },
      "outputs": [
        {
          "name": "stdout",
          "output_type": "stream",
          "text": [
            "Workspace name: cdh-azml-dev-mlw\n",
            "Azure region: eastus\n",
            "Subscription id: 320d8d57-c87c-4434-827f-59ee7d86687a\n",
            "Resource group: csels-cdh-dev\n"
          ]
        }
      ],
      "source": [
        "print('Workspace name: ' + ws.name, \n",
        "      'Azure region: ' + ws.location, \n",
        "      'Subscription id: ' + ws.subscription_id, \n",
        "      'Resource group: ' + ws.resource_group, sep = '\\n')"
      ]
    },
    {
      "cell_type": "code",
      "execution_count": 41,
      "metadata": {
        "gather": {
          "logged": 1662485497336
        },
        "jupyter": {
          "outputs_hidden": false,
          "source_hidden": false
        },
        "nteract": {
          "transient": {
            "deleting": false
          }
        }
      },
      "outputs": [
        {
          "name": "stdout",
          "output_type": "stream",
          "text": [
            "1.1.2\n"
          ]
        }
      ],
      "source": [
        "import sklearn\n",
        "from azureml.core import Model\n",
        "from azureml.core.resource_configuration import ResourceConfiguration\n",
        "\n",
        "print(sklearn.__version__)"
      ]
    },
    {
      "cell_type": "code",
      "execution_count": 42,
      "metadata": {
        "gather": {
          "logged": 1662485499829
        },
        "jupyter": {
          "outputs_hidden": false,
          "source_hidden": false
        },
        "nteract": {
          "transient": {
            "deleting": false
          }
        }
      },
      "outputs": [],
      "source": [
        "model = Model(workspace=ws,name='breast-cancer',version=2)"
      ]
    },
    {
      "cell_type": "code",
      "execution_count": 43,
      "metadata": {
        "gather": {
          "logged": 1662485499946
        },
        "jupyter": {
          "outputs_hidden": false,
          "source_hidden": false
        },
        "nteract": {
          "transient": {
            "deleting": false
          }
        }
      },
      "outputs": [
        {
          "name": "stdout",
          "output_type": "stream",
          "text": [
            "None\n"
          ]
        }
      ],
      "source": [
        "import os\n",
        "print(os.getenv(\"AZUREML_MODEL_DIR\"))\n",
        "#model_path = Model.get_model_path(os.getenv(\"AZUREML_MODEL_DIR\").split('/')[-2])"
      ]
    },
    {
      "cell_type": "code",
      "execution_count": 44,
      "metadata": {
        "gather": {
          "logged": 1662485509349
        },
        "jupyter": {
          "outputs_hidden": false,
          "source_hidden": false
        },
        "nteract": {
          "transient": {
            "deleting": false
          }
        }
      },
      "outputs": [
        {
          "data": {
            "text/plain": [
              "'aml_outputs/cancer_model.pkl'"
            ]
          },
          "execution_count": 44,
          "metadata": {},
          "output_type": "execute_result"
        }
      ],
      "source": [
        "import os\n",
        "\n",
        "os.makedirs('./aml_outputs/',exist_ok=True)\n",
        "model.download(target_dir='./aml_outputs/',exist_ok=True)"
      ]
    },
    {
      "cell_type": "code",
      "execution_count": 45,
      "metadata": {
        "jupyter": {
          "outputs_hidden": false,
          "source_hidden": false
        },
        "nteract": {
          "transient": {
            "deleting": false
          }
        }
      },
      "outputs": [
        {
          "name": "stdout",
          "output_type": "stream",
          "text": [
            "Overwriting ./scripts/score.py\n"
          ]
        }
      ],
      "source": [
        "%%writefile ./scoring/score.py\n",
        "\n",
        "import joblib\n",
        "import json\n",
        "import numpy as np\n",
        "import os\n",
        "\n",
        "from inference_schema.schema_decorators import input_schema, output_schema\n",
        "from inference_schema.parameter_types.numpy_parameter_type import NumpyParameterType\n",
        "\n",
        "def init():\n",
        "    global model\n",
        "    # AZUREML_MODEL_DIR is an environment variable created during deployment. Join this path with the filename of the model file.\n",
        "    # It holds the path to the directory that contains the deployed model (./azureml-models/$MODEL_NAME/$VERSION)\n",
        "    # If there are multiple models, this value is the path to the directory containing all deployed models (./azureml-models)\n",
        "    model_path = os.path.join(os.getenv('AZUREML_MODEL_DIR'), 'cancer_model.pkl')\n",
        "    # Deserialize the model file back into a sklearn model.\n",
        "    model = joblib.load(model_path)\n",
        "\n",
        "\n",
        "\n",
        "input_sample = np.array([[0.393845668409139, -0.7457496952627328, -0.22189398515428446, -0.7676382304726264, -0.6999246324662508, -0.17745016145311038, \n",
        "-0.81484548808207, -0.770581761525873, -0.7189314051409194, 0.07367558407930598, -0.4665409990624931, -0.06425072325003647, -0.667435753669589, \n",
        "-0.10209930505592255, -0.2928749021935234, -0.18393920631817678, -0.8204798568998558, -0.6065568523529427, -0.395651155530143, 0.3134950272756633,\n",
        " -0.8678658791041564, -0.6897420117050609, -0.5598110994362666, -0.723009965205552, -0.6542518616646612, -0.5936861839456196,\n",
        " -0.9574791012332506, -0.9270503937797329, -0.7552651134179409, -0.2651797994882257, -1.0640128515011344]])\n",
        "output_sample = np.array([0])\n",
        "\n",
        "@input_schema('data', NumpyParameterType(input_sample))\n",
        "@output_schema(NumpyParameterType(output_sample))\n",
        "def run(data):\n",
        "    try:\n",
        "        print(\"input_data....\")\n",
        "        print(type(data))\n",
        "        result = model.predict(data)\n",
        "        # You can return any JSON-serializable object.\n",
        "        return \"here is your result = \" + str(result)\n",
        "    except Exception as e:\n",
        "        error = str(e)\n",
        "        return error"
      ]
    },
    {
      "cell_type": "markdown",
      "metadata": {
        "nteract": {
          "transient": {
            "deleting": false
          }
        }
      },
      "source": [
        "### use custom envirronment"
      ]
    },
    {
      "cell_type": "code",
      "execution_count": 46,
      "metadata": {
        "gather": {
          "logged": 1662485509593
        },
        "jupyter": {
          "outputs_hidden": false,
          "source_hidden": false
        },
        "nteract": {
          "transient": {
            "deleting": false
          }
        }
      },
      "outputs": [
        {
          "name": "stdout",
          "output_type": "stream",
          "text": [
            "scikit-learn==1.1.2\n"
          ]
        }
      ],
      "source": [
        "print('scikit-learn=={}'.format(sklearn.__version__))"
      ]
    },
    {
      "cell_type": "code",
      "execution_count": 47,
      "metadata": {
        "gather": {
          "logged": 1662485509713
        },
        "jupyter": {
          "outputs_hidden": false,
          "source_hidden": false
        },
        "nteract": {
          "transient": {
            "deleting": false
          }
        }
      },
      "outputs": [],
      "source": [
        "from azureml.core import Environment\n",
        "from azureml.core.conda_dependencies import CondaDependencies\n",
        "\n",
        "\n",
        "environment = Environment('my-sklearn-environment')\n",
        "environment.python.conda_dependencies = CondaDependencies.create(conda_packages=[\n",
        "    'pip==20.2.4'],\n",
        "    pip_packages=[\n",
        "    'azureml-defaults',\n",
        "    'pandas',\n",
        "    'inference-schema[numpy-support]',\n",
        "    'joblib',\n",
        "    'numpy',\n",
        "    'scikit-learn'\n",
        "])"
      ]
    },
    {
      "cell_type": "markdown",
      "metadata": {
        "nteract": {
          "transient": {
            "deleting": false
          }
        }
      },
      "source": [
        "#### Create Inference Configuration\n",
        "\n",
        "* file_path: input parameter to Environment constructor. Manages conda and python package dependencies.\n",
        "* env.docker.base_dockerfile: any extra steps you want to inject into docker file\n",
        "* source_directory: holds source path as string, this entire folder gets added in image so its really easy to access any files within this folder or subfolder\n",
        "* entry_script: contains logic specific to initializing your model and running predictions"
      ]
    },
    {
      "cell_type": "code",
      "execution_count": 48,
      "metadata": {
        "gather": {
          "logged": 1662485547868
        },
        "jupyter": {
          "outputs_hidden": false,
          "source_hidden": false
        },
        "nteract": {
          "transient": {
            "deleting": false
          }
        }
      },
      "outputs": [
        {
          "name": "stdout",
          "output_type": "stream",
          "text": [
            "Tips: You can try get_logs(): https://aka.ms/debugimage#dockerlog or local deployment: https://aka.ms/debugimage#debug-locally to debug if deployment takes longer than 10 minutes.\n",
            "Failed"
          ]
        },
        {
          "name": "stderr",
          "output_type": "stream",
          "text": [
            "Service deployment polling reached non-successful terminal state, current service state: Unhealthy\n",
            "Operation ID: 1cdd7ede-42c5-4644-ac57-12f9a39e2522\n",
            "More information can be found using '.get_logs()'\n",
            "Error:\n",
            "{\n",
            "  \"code\": \"IpConfigProfileCannotReferToSubnetInUseWithResource\",\n",
            "  \"statusCode\": 400,\n",
            "  \"message\": \"Vnet Service request failed. Reason: IpConfigurationProfile /subscriptions/320d8d57-c87c-4434-827f-59ee7d86687a/resourceGroups/csels-cdh-dev/providers/Microsoft.Network/networkProfiles/aci-network-profile-csels-cdh-dev-vnet-cdh-azml-dev-snet/containerNetworkInterfaceConfigurations/eth0/ipConfigurations/ipconfig1 cannot refer to subnet /subscriptions/320d8d57-c87c-4434-827f-59ee7d86687a/resourceGroups/CSELS-CDH-DEV/providers/Microsoft.Network/virtualNetworks/csels-cdh-dev-vnet/subnets/cdh-azml-dev-snet since it is in use with resource /subscriptions/8cac8a7b-baf4-4965-ba8d-db72ccbb7c68/resourceGroups/223572a6-d321-404f-b766-4ed67aca786e-AzureBatch-CloudService/providers/Microsoft.Network/networkInterfaces/|providers|Microsoft.Compute|virtualMachineScaleSets|223572a6-d321-404f-b766-4ed67aca786e-AzureBatch-Deployment|virtualMachines|0|networkInterfaces|nic1/ipConfigurations/ip1..\"\n",
            "}\n",
            "\n"
          ]
        },
        {
          "ename": "WebserviceException",
          "evalue": "WebserviceException:\n\tMessage: Service deployment polling reached non-successful terminal state, current service state: Unhealthy\nOperation ID: 1cdd7ede-42c5-4644-ac57-12f9a39e2522\nMore information can be found using '.get_logs()'\nError:\n{\n  \"code\": \"IpConfigProfileCannotReferToSubnetInUseWithResource\",\n  \"statusCode\": 400,\n  \"message\": \"Vnet Service request failed. Reason: IpConfigurationProfile /subscriptions/320d8d57-c87c-4434-827f-59ee7d86687a/resourceGroups/csels-cdh-dev/providers/Microsoft.Network/networkProfiles/aci-network-profile-csels-cdh-dev-vnet-cdh-azml-dev-snet/containerNetworkInterfaceConfigurations/eth0/ipConfigurations/ipconfig1 cannot refer to subnet /subscriptions/320d8d57-c87c-4434-827f-59ee7d86687a/resourceGroups/CSELS-CDH-DEV/providers/Microsoft.Network/virtualNetworks/csels-cdh-dev-vnet/subnets/cdh-azml-dev-snet since it is in use with resource /subscriptions/8cac8a7b-baf4-4965-ba8d-db72ccbb7c68/resourceGroups/223572a6-d321-404f-b766-4ed67aca786e-AzureBatch-CloudService/providers/Microsoft.Network/networkInterfaces/|providers|Microsoft.Compute|virtualMachineScaleSets|223572a6-d321-404f-b766-4ed67aca786e-AzureBatch-Deployment|virtualMachines|0|networkInterfaces|nic1/ipConfigurations/ip1..\"\n}\n\tInnerException None\n\tErrorResponse \n{\n    \"error\": {\n        \"message\": \"Service deployment polling reached non-successful terminal state, current service state: Unhealthy\\nOperation ID: 1cdd7ede-42c5-4644-ac57-12f9a39e2522\\nMore information can be found using '.get_logs()'\\nError:\\n{\\n  \\\"code\\\": \\\"IpConfigProfileCannotReferToSubnetInUseWithResource\\\",\\n  \\\"statusCode\\\": 400,\\n  \\\"message\\\": \\\"Vnet Service request failed. Reason: IpConfigurationProfile /subscriptions/320d8d57-c87c-4434-827f-59ee7d86687a/resourceGroups/csels-cdh-dev/providers/Microsoft.Network/networkProfiles/aci-network-profile-csels-cdh-dev-vnet-cdh-azml-dev-snet/containerNetworkInterfaceConfigurations/eth0/ipConfigurations/ipconfig1 cannot refer to subnet /subscriptions/320d8d57-c87c-4434-827f-59ee7d86687a/resourceGroups/CSELS-CDH-DEV/providers/Microsoft.Network/virtualNetworks/csels-cdh-dev-vnet/subnets/cdh-azml-dev-snet since it is in use with resource /subscriptions/8cac8a7b-baf4-4965-ba8d-db72ccbb7c68/resourceGroups/223572a6-d321-404f-b766-4ed67aca786e-AzureBatch-CloudService/providers/Microsoft.Network/networkInterfaces/|providers|Microsoft.Compute|virtualMachineScaleSets|223572a6-d321-404f-b766-4ed67aca786e-AzureBatch-Deployment|virtualMachines|0|networkInterfaces|nic1/ipConfigurations/ip1..\\\"\\n}\"\n    }\n}",
          "output_type": "error",
          "traceback": [
            "\u001b[0;31m---------------------------------------------------------------------------\u001b[0m",
            "\u001b[0;31mWebserviceException\u001b[0m                       Traceback (most recent call last)",
            "Input \u001b[0;32mIn [48]\u001b[0m, in \u001b[0;36m<cell line: 21>\u001b[0;34m()\u001b[0m\n\u001b[1;32m     10\u001b[0m                                                 \u001b[38;5;66;03m#vnet_name='csels-cdh-dev-vnet', \u001b[39;00m\n\u001b[1;32m     11\u001b[0m                                                 \u001b[38;5;66;03m#subnet_name='cdh-azml-dev-snet')\u001b[39;00m\n\u001b[1;32m     15\u001b[0m service \u001b[38;5;241m=\u001b[39m Model\u001b[38;5;241m.\u001b[39mdeploy(workspace\u001b[38;5;241m=\u001b[39mws,\n\u001b[1;32m     16\u001b[0m                        name\u001b[38;5;241m=\u001b[39mservice_name,\n\u001b[1;32m     17\u001b[0m                        models\u001b[38;5;241m=\u001b[39m[model],\n\u001b[1;32m     18\u001b[0m                        inference_config\u001b[38;5;241m=\u001b[39minference_config,\n\u001b[1;32m     19\u001b[0m                        deployment_config\u001b[38;5;241m=\u001b[39maci_config,\n\u001b[1;32m     20\u001b[0m                        overwrite\u001b[38;5;241m=\u001b[39m\u001b[38;5;28;01mTrue\u001b[39;00m)\n\u001b[0;32m---> 21\u001b[0m \u001b[43mservice\u001b[49m\u001b[38;5;241;43m.\u001b[39;49m\u001b[43mwait_for_deployment\u001b[49m\u001b[43m(\u001b[49m\u001b[43mshow_output\u001b[49m\u001b[38;5;241;43m=\u001b[39;49m\u001b[38;5;28;43;01mTrue\u001b[39;49;00m\u001b[43m)\u001b[49m\n",
            "File \u001b[0;32m/anaconda/envs/azureml_py38/lib/python3.8/site-packages/azureml/core/webservice/webservice.py:918\u001b[0m, in \u001b[0;36mWebservice.wait_for_deployment\u001b[0;34m(self, show_output, timeout_sec)\u001b[0m\n\u001b[1;32m    915\u001b[0m         \u001b[38;5;28;01mif\u001b[39;00m \u001b[38;5;129;01mnot\u001b[39;00m logs_response:\n\u001b[1;32m    916\u001b[0m             logs_response \u001b[38;5;241m=\u001b[39m \u001b[38;5;124m'\u001b[39m\u001b[38;5;124mCurrent sub-operation type not known, more logs unavailable.\u001b[39m\u001b[38;5;124m'\u001b[39m\n\u001b[0;32m--> 918\u001b[0m         \u001b[38;5;28;01mraise\u001b[39;00m WebserviceException(\u001b[38;5;124m'\u001b[39m\u001b[38;5;124mService deployment polling reached non-successful terminal state, current \u001b[39m\u001b[38;5;124m'\u001b[39m\n\u001b[1;32m    919\u001b[0m                                   \u001b[38;5;124m'\u001b[39m\u001b[38;5;124mservice state: \u001b[39m\u001b[38;5;132;01m{}\u001b[39;00m\u001b[38;5;130;01m\\n\u001b[39;00m\u001b[38;5;124m'\u001b[39m\n\u001b[1;32m    920\u001b[0m                                   \u001b[38;5;124m'\u001b[39m\u001b[38;5;124mOperation ID: \u001b[39m\u001b[38;5;132;01m{}\u001b[39;00m\u001b[38;5;130;01m\\n\u001b[39;00m\u001b[38;5;124m'\u001b[39m\n\u001b[1;32m    921\u001b[0m                                   \u001b[38;5;124m'\u001b[39m\u001b[38;5;132;01m{}\u001b[39;00m\u001b[38;5;130;01m\\n\u001b[39;00m\u001b[38;5;124m'\u001b[39m\n\u001b[1;32m    922\u001b[0m                                   \u001b[38;5;124m'\u001b[39m\u001b[38;5;124mError:\u001b[39m\u001b[38;5;130;01m\\n\u001b[39;00m\u001b[38;5;124m'\u001b[39m\n\u001b[1;32m    923\u001b[0m                                   \u001b[38;5;124m'\u001b[39m\u001b[38;5;132;01m{}\u001b[39;00m\u001b[38;5;124m'\u001b[39m\u001b[38;5;241m.\u001b[39mformat(\u001b[38;5;28mself\u001b[39m\u001b[38;5;241m.\u001b[39mstate, \u001b[38;5;28mself\u001b[39m\u001b[38;5;241m.\u001b[39m_operation_endpoint\u001b[38;5;241m.\u001b[39msplit(\u001b[38;5;124m'\u001b[39m\u001b[38;5;124m/\u001b[39m\u001b[38;5;124m'\u001b[39m)[\u001b[38;5;241m-\u001b[39m\u001b[38;5;241m1\u001b[39m],\n\u001b[1;32m    924\u001b[0m                                               logs_response, format_error_response), logger\u001b[38;5;241m=\u001b[39mmodule_logger)\n\u001b[1;32m    925\u001b[0m     \u001b[38;5;28mprint\u001b[39m(\u001b[38;5;124m'\u001b[39m\u001b[38;5;132;01m{}\u001b[39;00m\u001b[38;5;124m service creation operation finished, operation \u001b[39m\u001b[38;5;124m\"\u001b[39m\u001b[38;5;132;01m{}\u001b[39;00m\u001b[38;5;124m\"\u001b[39m\u001b[38;5;124m'\u001b[39m\u001b[38;5;241m.\u001b[39mformat(\u001b[38;5;28mself\u001b[39m\u001b[38;5;241m.\u001b[39m_webservice_type,\n\u001b[1;32m    926\u001b[0m                                                                           operation_state))\n\u001b[1;32m    927\u001b[0m \u001b[38;5;28;01mexcept\u001b[39;00m WebserviceException \u001b[38;5;28;01mas\u001b[39;00m e:\n",
            "\u001b[0;31mWebserviceException\u001b[0m: WebserviceException:\n\tMessage: Service deployment polling reached non-successful terminal state, current service state: Unhealthy\nOperation ID: 1cdd7ede-42c5-4644-ac57-12f9a39e2522\nMore information can be found using '.get_logs()'\nError:\n{\n  \"code\": \"IpConfigProfileCannotReferToSubnetInUseWithResource\",\n  \"statusCode\": 400,\n  \"message\": \"Vnet Service request failed. Reason: IpConfigurationProfile /subscriptions/320d8d57-c87c-4434-827f-59ee7d86687a/resourceGroups/csels-cdh-dev/providers/Microsoft.Network/networkProfiles/aci-network-profile-csels-cdh-dev-vnet-cdh-azml-dev-snet/containerNetworkInterfaceConfigurations/eth0/ipConfigurations/ipconfig1 cannot refer to subnet /subscriptions/320d8d57-c87c-4434-827f-59ee7d86687a/resourceGroups/CSELS-CDH-DEV/providers/Microsoft.Network/virtualNetworks/csels-cdh-dev-vnet/subnets/cdh-azml-dev-snet since it is in use with resource /subscriptions/8cac8a7b-baf4-4965-ba8d-db72ccbb7c68/resourceGroups/223572a6-d321-404f-b766-4ed67aca786e-AzureBatch-CloudService/providers/Microsoft.Network/networkInterfaces/|providers|Microsoft.Compute|virtualMachineScaleSets|223572a6-d321-404f-b766-4ed67aca786e-AzureBatch-Deployment|virtualMachines|0|networkInterfaces|nic1/ipConfigurations/ip1..\"\n}\n\tInnerException None\n\tErrorResponse \n{\n    \"error\": {\n        \"message\": \"Service deployment polling reached non-successful terminal state, current service state: Unhealthy\\nOperation ID: 1cdd7ede-42c5-4644-ac57-12f9a39e2522\\nMore information can be found using '.get_logs()'\\nError:\\n{\\n  \\\"code\\\": \\\"IpConfigProfileCannotReferToSubnetInUseWithResource\\\",\\n  \\\"statusCode\\\": 400,\\n  \\\"message\\\": \\\"Vnet Service request failed. Reason: IpConfigurationProfile /subscriptions/320d8d57-c87c-4434-827f-59ee7d86687a/resourceGroups/csels-cdh-dev/providers/Microsoft.Network/networkProfiles/aci-network-profile-csels-cdh-dev-vnet-cdh-azml-dev-snet/containerNetworkInterfaceConfigurations/eth0/ipConfigurations/ipconfig1 cannot refer to subnet /subscriptions/320d8d57-c87c-4434-827f-59ee7d86687a/resourceGroups/CSELS-CDH-DEV/providers/Microsoft.Network/virtualNetworks/csels-cdh-dev-vnet/subnets/cdh-azml-dev-snet since it is in use with resource /subscriptions/8cac8a7b-baf4-4965-ba8d-db72ccbb7c68/resourceGroups/223572a6-d321-404f-b766-4ed67aca786e-AzureBatch-CloudService/providers/Microsoft.Network/networkInterfaces/|providers|Microsoft.Compute|virtualMachineScaleSets|223572a6-d321-404f-b766-4ed67aca786e-AzureBatch-Deployment|virtualMachines|0|networkInterfaces|nic1/ipConfigurations/ip1..\\\"\\n}\"\n    }\n}"
          ]
        }
      ],
      "source": [
        "from azureml.core.model import InferenceConfig\n",
        "from azureml.core.webservice import AciWebservice\n",
        "\n",
        "\n",
        "service_name = 'breast-cancer-custom-service'\n",
        "\n",
        "inference_config = InferenceConfig(entry_script='./scripts/score.py', environment=environment)\n",
        "aci_config = AciWebservice.deploy_configuration(cpu_cores=1,\n",
        "                                                memory_gb=1 )\n",
        "                                                #vnet_name='csels-cdh-dev-vnet', \n",
        "                                                #subnet_name='cdh-azml-dev-snet')\n",
        "\n",
        "\n",
        "\n",
        "service = Model.deploy(workspace=ws,\n",
        "                       name=service_name,\n",
        "                       models=[model],\n",
        "                       inference_config=inference_config,\n",
        "                       deployment_config=aci_config,\n",
        "                       overwrite=True)\n",
        "service.wait_for_deployment(show_output=True)"
      ]
    },
    {
      "cell_type": "code",
      "execution_count": null,
      "metadata": {
        "gather": {
          "logged": 1662485548018
        },
        "jupyter": {
          "outputs_hidden": false,
          "source_hidden": false
        },
        "nteract": {
          "transient": {
            "deleting": false
          }
        }
      },
      "outputs": [],
      "source": [
        "print(service.get_logs())"
      ]
    },
    {
      "cell_type": "code",
      "execution_count": null,
      "metadata": {
        "gather": {
          "logged": 1662485548033
        },
        "jupyter": {
          "outputs_hidden": false,
          "source_hidden": false
        },
        "nteract": {
          "transient": {
            "deleting": false
          }
        }
      },
      "outputs": [],
      "source": [
        "import json\n",
        "import numpy as np\n",
        "import pandas as pd \n",
        "\n",
        "input_sample = np.array([[0.393845668409139, -0.7457496952627328, -0.22189398515428446, -0.7676382304726264, -0.6999246324662508, -0.17745016145311038, \n",
        "-0.81484548808207, -0.770581761525873, -0.7189314051409194, 0.07367558407930598, -0.4665409990624931, -0.06425072325003647, -0.667435753669589, \n",
        "-0.10209930505592255, -0.2928749021935234, -0.18393920631817678, -0.8204798568998558, -0.6065568523529427, -0.395651155530143, 0.3134950272756633,\n",
        " -0.8678658791041564, -0.6897420117050609, -0.5598110994362666, -0.723009965205552, -0.6542518616646612, -0.5936861839456196,\n",
        " -0.9574791012332506, -0.9270503937797329, -0.7552651134179409, -0.2651797994882257, -1.0640128515011344]])\n",
        "\n",
        "input_payload = json.dumps({\n",
        "    'data': input_sample.tolist()\n",
        "})\n",
        "\n",
        "output = service.run(input_payload)\n",
        "\n",
        "print(output)"
      ]
    },
    {
      "cell_type": "code",
      "execution_count": null,
      "metadata": {
        "gather": {
          "logged": 1662485548051
        },
        "jupyter": {
          "outputs_hidden": false,
          "source_hidden": false
        },
        "nteract": {
          "transient": {
            "deleting": false
          }
        }
      },
      "outputs": [],
      "source": [
        "import urllib.request\n",
        "import json\n",
        "import os\n",
        "import ssl\n",
        "\n",
        "def allowSelfSignedHttps(allowed):\n",
        "    # bypass the server certificate verification on client side\n",
        "    if allowed and not os.environ.get('PYTHONHTTPSVERIFY', '') and getattr(ssl, '_create_unverified_context', None):\n",
        "        ssl._create_default_https_context = ssl._create_unverified_context\n",
        "\n",
        "allowSelfSignedHttps(True) # this line is needed if you use self-signed certificate in your scoring service.\n",
        "\n",
        "# Request data goes here\n",
        "# The example below assumes JSON formatting which may be updated\n",
        "# depending on the format your endpoint expects.\n",
        "# More information can be found here:\n",
        "# https://docs.microsoft.com/azure/machine-learning/how-to-deploy-advanced-entry-script\n",
        "data =  {\n",
        "  \"data\": [\n",
        "    [\n",
        "      0.393845668409139,\n",
        "      -0.7457496952627328,\n",
        "      -0.22189398515428446,\n",
        "      -0.7676382304726264,\n",
        "      -0.6999246324662508,\n",
        "      -0.17745016145311038,\n",
        "      -0.81484548808207,\n",
        "      -0.770581761525873,\n",
        "      -0.7189314051409194,\n",
        "      0.07367558407930598,\n",
        "      -0.4665409990624931,\n",
        "      -0.06425072325003647,\n",
        "      -0.667435753669589,\n",
        "      -0.10209930505592255,\n",
        "      -0.2928749021935234,\n",
        "      -0.18393920631817678,\n",
        "      -0.8204798568998558,\n",
        "      -0.6065568523529427,\n",
        "      -0.395651155530143,\n",
        "      0.3134950272756633,\n",
        "      -0.8678658791041564,\n",
        "      -0.6897420117050609,\n",
        "      -0.5598110994362666,\n",
        "      -0.723009965205552,\n",
        "      -0.6542518616646612,\n",
        "      -0.5936861839456196,\n",
        "      -0.9574791012332506,\n",
        "      -0.9270503937797329,\n",
        "      -0.7552651134179409,\n",
        "      -0.2651797994882257,\n",
        "      -1.0640128515011344\n",
        "    ]\n",
        "  ]\n",
        "}\n",
        "\n",
        "body = str.encode(json.dumps(data))\n",
        "\n",
        "url = 'http://d29e1866-d35b-4f23-8827-ea1dd1bffd9a.eastus2.azurecontainer.io/score'\n",
        "api_key = '' # Replace this with the API key for the web service\n",
        "\n",
        "# The azureml-model-deployment header will force the request to go to a specific deployment.\n",
        "# Remove this header to have the request observe the endpoint traffic rules\n",
        "headers = {'Content-Type':'application/json', 'Authorization':('Bearer '+ api_key)}\n",
        "\n",
        "req = urllib.request.Request(url, body, headers)\n",
        "\n",
        "try:\n",
        "    response = urllib.request.urlopen(req)\n",
        "\n",
        "    result = response.read()\n",
        "    print(result)\n",
        "except urllib.error.HTTPError as error:\n",
        "    print(\"The request failed with status code: \" + str(error.code))\n",
        "\n",
        "    # Print the headers - they include the requert ID and the timestamp, which are useful for debugging the failure\n",
        "    print(error.info())\n",
        "    print(error.read().decode(\"utf8\", 'ignore'))"
      ]
    },
    {
      "cell_type": "markdown",
      "metadata": {
        "nteract": {
          "transient": {
            "deleting": false
          }
        }
      },
      "source": [
        "## AKS deployment"
      ]
    },
    {
      "cell_type": "code",
      "execution_count": 50,
      "metadata": {
        "gather": {
          "logged": 1662489304081
        },
        "jupyter": {
          "outputs_hidden": false,
          "source_hidden": false
        },
        "nteract": {
          "transient": {
            "deleting": false
          }
        }
      },
      "outputs": [
        {
          "name": "stdout",
          "output_type": "stream",
          "text": [
            "Tips: You can try get_logs(): https://aka.ms/debugimage#dockerlog or local deployment: https://aka.ms/debugimage#debug-locally to debug if deployment takes longer than 10 minutes.\n",
            "Running\n",
            "2022-09-06 18:14:46+00:00 Creating Container Registry if not exists.\n",
            "2022-09-06 18:14:46+00:00 Registering the environment.\n",
            "2022-09-06 18:14:47+00:00 Use the existing image.\n",
            "2022-09-06 18:14:48+00:00 Creating resources in AKS.\n",
            "2022-09-06 18:14:49+00:00 Submitting deployment to compute.\n",
            "2022-09-06 18:14:49+00:00 Checking the status of deployment breast-cancer-custom-service.\n",
            "TimedOut\n"
          ]
        },
        {
          "name": "stderr",
          "output_type": "stream",
          "text": [
            "Service deployment polling reached non-successful terminal state, current service state: Transitioning\n",
            "Operation ID: 7777de4a-c33f-4dd0-8386-039caf994256\n",
            "More information can be found using '.get_logs()'\n",
            "Error:\n",
            "{\n",
            "  \"code\": \"DeploymentTimedOut\",\n",
            "  \"statusCode\": 504,\n",
            "  \"message\": \"Timed out waiting for AKS deployment to complete. pollTimeout : 00:20:00 serviceName: breast-cancer-custom-service serviceId: 16339ae6-e93b-404f-87df-917b87bd5cc7\",\n",
            "  \"details\": [\n",
            "    {\n",
            "      \"code\": \"DeploymentTimedOut\",\n",
            "      \"message\": \"Your container endpoint is not available. Please follow the steps to debug:\n",
            "\t1. From the AML SDK, you can run print(service.get_logs()) if you have service object to fetch the logs. Please refer to https://aka.ms/debugimage#dockerlog for more information.\n",
            "\t2. You can also interactively debug your scoring file locally. Please refer to https://docs.microsoft.com/azure/machine-learning/how-to-debug-visual-studio-code#debug-and-troubleshoot-deployments for more information.\n",
            "\t3. For AKS deployment with custom certificate, you need to update your DNS record to point to the IP address of scoring endpoint. Please refer to https://docs.microsoft.com/azure/machine-learning/how-to-secure-web-service#update-your-dns for more information.\n",
            "\t4. View the diagnostic events to check status of container, it may help you to debug the issue.\n",
            "{\"InvolvedObject\":\"breast-cancer-custom-service-5d79cb7656-cd6h2\",\"InvolvedKind\":\"Pod\",\"Type\":\"Normal\",\"Reason\":\"Scheduled\",\"Message\":\"Successfully assigned azureml-cdh-azml-dev-mlw/breast-cancer-custom-service-5d79cb7656-cd6h2 to aks-agentpool-41265225-vmss000000\",\"LastTimestamp\":\"2022-09-06T18:14:49Z\"}\n",
            "{\"InvolvedObject\":\"breast-cancer-custom-service-5d79cb7656-cd6h2\",\"InvolvedKind\":\"Pod\",\"Type\":\"Warning\",\"Reason\":\"FailedMount\",\"Message\":\"MountVolume.MountDevice failed for volume \"breast-cancer-custom-service0c15c8cd891f4e119fc1dd716946c1ac-pvc\" : kubernetes.io/csi: attacher.MountDevice failed to create newCsiDriverClient: driver name blob.csi.azure.com not found in the list of registered CSI drivers\",\"LastTimestamp\":\"2022-09-06T18:15:22Z\"}\n",
            "{\"InvolvedObject\":\"breast-cancer-custom-service-5d79cb7656-cd6h2\",\"InvolvedKind\":\"Pod\",\"Type\":\"Warning\",\"Reason\":\"FailedMount\",\"Message\":\"Unable to attach or mount volumes: unmounted volumes=[staging], unattached volumes=[kube-api-access-qhw7v staging structure emptymount]: timed out waiting for the condition\",\"LastTimestamp\":\"2022-09-06T18:25:55Z\"}\n",
            "{\"InvolvedObject\":\"breast-cancer-custom-service-5d79cb7656-cd6h2\",\"InvolvedKind\":\"Pod\",\"Type\":\"Warning\",\"Reason\":\"FailedMount\",\"Message\":\"Unable to attach or mount volumes: unmounted volumes=[staging], unattached volumes=[emptymount kube-api-access-qhw7v staging structure]: timed out waiting for the condition\",\"LastTimestamp\":\"2022-09-06T18:28:13Z\"}\n",
            "{\"InvolvedObject\":\"breast-cancer-custom-service-5d79cb7656-cd6h2\",\"InvolvedKind\":\"Pod\",\"Type\":\"Warning\",\"Reason\":\"FailedMount\",\"Message\":\"Unable to attach or mount volumes: unmounted volumes=[staging], unattached volumes=[staging structure emptymount kube-api-access-qhw7v]: timed out waiting for the condition\",\"LastTimestamp\":\"2022-09-06T18:30:28Z\"}\n",
            "{\"InvolvedObject\":\"breast-cancer-custom-service-5d79cb7656-cd6h2\",\"InvolvedKind\":\"Pod\",\"Type\":\"Warning\",\"Reason\":\"FailedMount\",\"Message\":\"Unable to attach or mount volumes: unmounted volumes=[staging], unattached volumes=[structure emptymount kube-api-access-qhw7v staging]: timed out waiting for the condition\",\"LastTimestamp\":\"2022-09-06T18:32:45Z\"}\n",
            "{\"InvolvedObject\":\"breast-cancer-custom-service-5d79cb7656-cd6h2\",\"InvolvedKind\":\"Pod\",\"Type\":\"Warning\",\"Reason\":\"FailedMount\",\"Message\":\"MountVolume.MountDevice failed for volume \"breast-cancer-custom-service0c15c8cd891f4e119fc1dd716946c1ac-pvc\" : rpc error: code = Unknown desc = Mount failed with error: exit status 255, output: Unable to start blobfuse. Failed to connect to the storage container. There might be something wrong about the storage config, please double check the storage account name, account key/sas token/OAuth access token and container name. errno=403\n",
            "Unable to start blobfuse due to authentication or connectivity issues. Please check the readme for valid auth setups.\n",
            "no config filedone reading env vars\",\"LastTimestamp\":\"2022-09-06T18:33:16Z\"}\n",
            "\"\n",
            "    }\n",
            "  ]\n",
            "}\n",
            "\n"
          ]
        },
        {
          "ename": "WebserviceException",
          "evalue": "WebserviceException:\n\tMessage: Service deployment polling reached non-successful terminal state, current service state: Transitioning\nOperation ID: 7777de4a-c33f-4dd0-8386-039caf994256\nMore information can be found using '.get_logs()'\nError:\n{\n  \"code\": \"DeploymentTimedOut\",\n  \"statusCode\": 504,\n  \"message\": \"Timed out waiting for AKS deployment to complete. pollTimeout : 00:20:00 serviceName: breast-cancer-custom-service serviceId: 16339ae6-e93b-404f-87df-917b87bd5cc7\",\n  \"details\": [\n    {\n      \"code\": \"DeploymentTimedOut\",\n      \"message\": \"Your container endpoint is not available. Please follow the steps to debug:\n\t1. From the AML SDK, you can run print(service.get_logs()) if you have service object to fetch the logs. Please refer to https://aka.ms/debugimage#dockerlog for more information.\n\t2. You can also interactively debug your scoring file locally. Please refer to https://docs.microsoft.com/azure/machine-learning/how-to-debug-visual-studio-code#debug-and-troubleshoot-deployments for more information.\n\t3. For AKS deployment with custom certificate, you need to update your DNS record to point to the IP address of scoring endpoint. Please refer to https://docs.microsoft.com/azure/machine-learning/how-to-secure-web-service#update-your-dns for more information.\n\t4. View the diagnostic events to check status of container, it may help you to debug the issue.\n{\"InvolvedObject\":\"breast-cancer-custom-service-5d79cb7656-cd6h2\",\"InvolvedKind\":\"Pod\",\"Type\":\"Normal\",\"Reason\":\"Scheduled\",\"Message\":\"Successfully assigned azureml-cdh-azml-dev-mlw/breast-cancer-custom-service-5d79cb7656-cd6h2 to aks-agentpool-41265225-vmss000000\",\"LastTimestamp\":\"2022-09-06T18:14:49Z\"}\n{\"InvolvedObject\":\"breast-cancer-custom-service-5d79cb7656-cd6h2\",\"InvolvedKind\":\"Pod\",\"Type\":\"Warning\",\"Reason\":\"FailedMount\",\"Message\":\"MountVolume.MountDevice failed for volume \"breast-cancer-custom-service0c15c8cd891f4e119fc1dd716946c1ac-pvc\" : kubernetes.io/csi: attacher.MountDevice failed to create newCsiDriverClient: driver name blob.csi.azure.com not found in the list of registered CSI drivers\",\"LastTimestamp\":\"2022-09-06T18:15:22Z\"}\n{\"InvolvedObject\":\"breast-cancer-custom-service-5d79cb7656-cd6h2\",\"InvolvedKind\":\"Pod\",\"Type\":\"Warning\",\"Reason\":\"FailedMount\",\"Message\":\"Unable to attach or mount volumes: unmounted volumes=[staging], unattached volumes=[kube-api-access-qhw7v staging structure emptymount]: timed out waiting for the condition\",\"LastTimestamp\":\"2022-09-06T18:25:55Z\"}\n{\"InvolvedObject\":\"breast-cancer-custom-service-5d79cb7656-cd6h2\",\"InvolvedKind\":\"Pod\",\"Type\":\"Warning\",\"Reason\":\"FailedMount\",\"Message\":\"Unable to attach or mount volumes: unmounted volumes=[staging], unattached volumes=[emptymount kube-api-access-qhw7v staging structure]: timed out waiting for the condition\",\"LastTimestamp\":\"2022-09-06T18:28:13Z\"}\n{\"InvolvedObject\":\"breast-cancer-custom-service-5d79cb7656-cd6h2\",\"InvolvedKind\":\"Pod\",\"Type\":\"Warning\",\"Reason\":\"FailedMount\",\"Message\":\"Unable to attach or mount volumes: unmounted volumes=[staging], unattached volumes=[staging structure emptymount kube-api-access-qhw7v]: timed out waiting for the condition\",\"LastTimestamp\":\"2022-09-06T18:30:28Z\"}\n{\"InvolvedObject\":\"breast-cancer-custom-service-5d79cb7656-cd6h2\",\"InvolvedKind\":\"Pod\",\"Type\":\"Warning\",\"Reason\":\"FailedMount\",\"Message\":\"Unable to attach or mount volumes: unmounted volumes=[staging], unattached volumes=[structure emptymount kube-api-access-qhw7v staging]: timed out waiting for the condition\",\"LastTimestamp\":\"2022-09-06T18:32:45Z\"}\n{\"InvolvedObject\":\"breast-cancer-custom-service-5d79cb7656-cd6h2\",\"InvolvedKind\":\"Pod\",\"Type\":\"Warning\",\"Reason\":\"FailedMount\",\"Message\":\"MountVolume.MountDevice failed for volume \"breast-cancer-custom-service0c15c8cd891f4e119fc1dd716946c1ac-pvc\" : rpc error: code = Unknown desc = Mount failed with error: exit status 255, output: Unable to start blobfuse. Failed to connect to the storage container. There might be something wrong about the storage config, please double check the storage account name, account key/sas token/OAuth access token and container name. errno=403\nUnable to start blobfuse due to authentication or connectivity issues. Please check the readme for valid auth setups.\nno config filedone reading env vars\",\"LastTimestamp\":\"2022-09-06T18:33:16Z\"}\n\"\n    }\n  ]\n}\n\tInnerException None\n\tErrorResponse \n{\n    \"error\": {\n        \"message\": \"Service deployment polling reached non-successful terminal state, current service state: Transitioning\\nOperation ID: 7777de4a-c33f-4dd0-8386-039caf994256\\nMore information can be found using '.get_logs()'\\nError:\\n{\\n  \\\"code\\\": \\\"DeploymentTimedOut\\\",\\n  \\\"statusCode\\\": 504,\\n  \\\"message\\\": \\\"Timed out waiting for AKS deployment to complete. pollTimeout : 00:20:00 serviceName: breast-cancer-custom-service serviceId: 16339ae6-e93b-404f-87df-917b87bd5cc7\\\",\\n  \\\"details\\\": [\\n    {\\n      \\\"code\\\": \\\"DeploymentTimedOut\\\",\\n      \\\"message\\\": \\\"Your container endpoint is not available. Please follow the steps to debug:\\n\\t1. From the AML SDK, you can run print(service.get_logs()) if you have service object to fetch the logs. Please refer to https://aka.ms/debugimage#dockerlog for more information.\\n\\t2. You can also interactively debug your scoring file locally. Please refer to https://docs.microsoft.com/azure/machine-learning/how-to-debug-visual-studio-code#debug-and-troubleshoot-deployments for more information.\\n\\t3. For AKS deployment with custom certificate, you need to update your DNS record to point to the IP address of scoring endpoint. Please refer to https://docs.microsoft.com/azure/machine-learning/how-to-secure-web-service#update-your-dns for more information.\\n\\t4. View the diagnostic events to check status of container, it may help you to debug the issue.\\n{\\\"InvolvedObject\\\":\\\"breast-cancer-custom-service-5d79cb7656-cd6h2\\\",\\\"InvolvedKind\\\":\\\"Pod\\\",\\\"Type\\\":\\\"Normal\\\",\\\"Reason\\\":\\\"Scheduled\\\",\\\"Message\\\":\\\"Successfully assigned azureml-cdh-azml-dev-mlw/breast-cancer-custom-service-5d79cb7656-cd6h2 to aks-agentpool-41265225-vmss000000\\\",\\\"LastTimestamp\\\":\\\"2022-09-06T18:14:49Z\\\"}\\n{\\\"InvolvedObject\\\":\\\"breast-cancer-custom-service-5d79cb7656-cd6h2\\\",\\\"InvolvedKind\\\":\\\"Pod\\\",\\\"Type\\\":\\\"Warning\\\",\\\"Reason\\\":\\\"FailedMount\\\",\\\"Message\\\":\\\"MountVolume.MountDevice failed for volume \\\"breast-cancer-custom-service0c15c8cd891f4e119fc1dd716946c1ac-pvc\\\" : kubernetes.io/csi: attacher.MountDevice failed to create newCsiDriverClient: driver name blob.csi.azure.com not found in the list of registered CSI drivers\\\",\\\"LastTimestamp\\\":\\\"2022-09-06T18:15:22Z\\\"}\\n{\\\"InvolvedObject\\\":\\\"breast-cancer-custom-service-5d79cb7656-cd6h2\\\",\\\"InvolvedKind\\\":\\\"Pod\\\",\\\"Type\\\":\\\"Warning\\\",\\\"Reason\\\":\\\"FailedMount\\\",\\\"Message\\\":\\\"Unable to attach or mount volumes: unmounted volumes=[staging], unattached volumes=[kube-api-access-qhw7v staging structure emptymount]: timed out waiting for the condition\\\",\\\"LastTimestamp\\\":\\\"2022-09-06T18:25:55Z\\\"}\\n{\\\"InvolvedObject\\\":\\\"breast-cancer-custom-service-5d79cb7656-cd6h2\\\",\\\"InvolvedKind\\\":\\\"Pod\\\",\\\"Type\\\":\\\"Warning\\\",\\\"Reason\\\":\\\"FailedMount\\\",\\\"Message\\\":\\\"Unable to attach or mount volumes: unmounted volumes=[staging], unattached volumes=[emptymount kube-api-access-qhw7v staging structure]: timed out waiting for the condition\\\",\\\"LastTimestamp\\\":\\\"2022-09-06T18:28:13Z\\\"}\\n{\\\"InvolvedObject\\\":\\\"breast-cancer-custom-service-5d79cb7656-cd6h2\\\",\\\"InvolvedKind\\\":\\\"Pod\\\",\\\"Type\\\":\\\"Warning\\\",\\\"Reason\\\":\\\"FailedMount\\\",\\\"Message\\\":\\\"Unable to attach or mount volumes: unmounted volumes=[staging], unattached volumes=[staging structure emptymount kube-api-access-qhw7v]: timed out waiting for the condition\\\",\\\"LastTimestamp\\\":\\\"2022-09-06T18:30:28Z\\\"}\\n{\\\"InvolvedObject\\\":\\\"breast-cancer-custom-service-5d79cb7656-cd6h2\\\",\\\"InvolvedKind\\\":\\\"Pod\\\",\\\"Type\\\":\\\"Warning\\\",\\\"Reason\\\":\\\"FailedMount\\\",\\\"Message\\\":\\\"Unable to attach or mount volumes: unmounted volumes=[staging], unattached volumes=[structure emptymount kube-api-access-qhw7v staging]: timed out waiting for the condition\\\",\\\"LastTimestamp\\\":\\\"2022-09-06T18:32:45Z\\\"}\\n{\\\"InvolvedObject\\\":\\\"breast-cancer-custom-service-5d79cb7656-cd6h2\\\",\\\"InvolvedKind\\\":\\\"Pod\\\",\\\"Type\\\":\\\"Warning\\\",\\\"Reason\\\":\\\"FailedMount\\\",\\\"Message\\\":\\\"MountVolume.MountDevice failed for volume \\\"breast-cancer-custom-service0c15c8cd891f4e119fc1dd716946c1ac-pvc\\\" : rpc error: code = Unknown desc = Mount failed with error: exit status 255, output: Unable to start blobfuse. Failed to connect to the storage container. There might be something wrong about the storage config, please double check the storage account name, account key/sas token/OAuth access token and container name. errno=403\\nUnable to start blobfuse due to authentication or connectivity issues. Please check the readme for valid auth setups.\\nno config filedone reading env vars\\\",\\\"LastTimestamp\\\":\\\"2022-09-06T18:33:16Z\\\"}\\n\\\"\\n    }\\n  ]\\n}\"\n    }\n}",
          "output_type": "error",
          "traceback": [
            "\u001b[0;31m---------------------------------------------------------------------------\u001b[0m",
            "\u001b[0;31mWebserviceException\u001b[0m                       Traceback (most recent call last)",
            "Input \u001b[0;32mIn [50]\u001b[0m, in \u001b[0;36m<cell line: 16>\u001b[0;34m()\u001b[0m\n\u001b[1;32m      9\u001b[0m deployment_config \u001b[38;5;241m=\u001b[39m AksWebservice\u001b[38;5;241m.\u001b[39mdeploy_configuration(cpu_cores \u001b[38;5;241m=\u001b[39m \u001b[38;5;241m1\u001b[39m, memory_gb \u001b[38;5;241m=\u001b[39m \u001b[38;5;241m1\u001b[39m)\n\u001b[1;32m     10\u001b[0m service \u001b[38;5;241m=\u001b[39m Model\u001b[38;5;241m.\u001b[39mdeploy(ws, \n\u001b[1;32m     11\u001b[0m                         service_name, \n\u001b[1;32m     12\u001b[0m                         [model], \n\u001b[1;32m     13\u001b[0m                         inference_config, \n\u001b[1;32m     14\u001b[0m                         deployment_config, \n\u001b[1;32m     15\u001b[0m                         aks_target)\n\u001b[0;32m---> 16\u001b[0m \u001b[43mservice\u001b[49m\u001b[38;5;241;43m.\u001b[39;49m\u001b[43mwait_for_deployment\u001b[49m\u001b[43m(\u001b[49m\u001b[43mshow_output\u001b[49m\u001b[43m \u001b[49m\u001b[38;5;241;43m=\u001b[39;49m\u001b[43m \u001b[49m\u001b[38;5;28;43;01mTrue\u001b[39;49;00m\u001b[43m)\u001b[49m\n\u001b[1;32m     17\u001b[0m \u001b[38;5;28mprint\u001b[39m(service\u001b[38;5;241m.\u001b[39mstate)\n\u001b[1;32m     18\u001b[0m \u001b[38;5;28mprint\u001b[39m(service\u001b[38;5;241m.\u001b[39mget_logs())\n",
            "File \u001b[0;32m/anaconda/envs/azureml_py38/lib/python3.8/site-packages/azureml/core/webservice/webservice.py:918\u001b[0m, in \u001b[0;36mWebservice.wait_for_deployment\u001b[0;34m(self, show_output, timeout_sec)\u001b[0m\n\u001b[1;32m    915\u001b[0m         \u001b[38;5;28;01mif\u001b[39;00m \u001b[38;5;129;01mnot\u001b[39;00m logs_response:\n\u001b[1;32m    916\u001b[0m             logs_response \u001b[38;5;241m=\u001b[39m \u001b[38;5;124m'\u001b[39m\u001b[38;5;124mCurrent sub-operation type not known, more logs unavailable.\u001b[39m\u001b[38;5;124m'\u001b[39m\n\u001b[0;32m--> 918\u001b[0m         \u001b[38;5;28;01mraise\u001b[39;00m WebserviceException(\u001b[38;5;124m'\u001b[39m\u001b[38;5;124mService deployment polling reached non-successful terminal state, current \u001b[39m\u001b[38;5;124m'\u001b[39m\n\u001b[1;32m    919\u001b[0m                                   \u001b[38;5;124m'\u001b[39m\u001b[38;5;124mservice state: \u001b[39m\u001b[38;5;132;01m{}\u001b[39;00m\u001b[38;5;130;01m\\n\u001b[39;00m\u001b[38;5;124m'\u001b[39m\n\u001b[1;32m    920\u001b[0m                                   \u001b[38;5;124m'\u001b[39m\u001b[38;5;124mOperation ID: \u001b[39m\u001b[38;5;132;01m{}\u001b[39;00m\u001b[38;5;130;01m\\n\u001b[39;00m\u001b[38;5;124m'\u001b[39m\n\u001b[1;32m    921\u001b[0m                                   \u001b[38;5;124m'\u001b[39m\u001b[38;5;132;01m{}\u001b[39;00m\u001b[38;5;130;01m\\n\u001b[39;00m\u001b[38;5;124m'\u001b[39m\n\u001b[1;32m    922\u001b[0m                                   \u001b[38;5;124m'\u001b[39m\u001b[38;5;124mError:\u001b[39m\u001b[38;5;130;01m\\n\u001b[39;00m\u001b[38;5;124m'\u001b[39m\n\u001b[1;32m    923\u001b[0m                                   \u001b[38;5;124m'\u001b[39m\u001b[38;5;132;01m{}\u001b[39;00m\u001b[38;5;124m'\u001b[39m\u001b[38;5;241m.\u001b[39mformat(\u001b[38;5;28mself\u001b[39m\u001b[38;5;241m.\u001b[39mstate, \u001b[38;5;28mself\u001b[39m\u001b[38;5;241m.\u001b[39m_operation_endpoint\u001b[38;5;241m.\u001b[39msplit(\u001b[38;5;124m'\u001b[39m\u001b[38;5;124m/\u001b[39m\u001b[38;5;124m'\u001b[39m)[\u001b[38;5;241m-\u001b[39m\u001b[38;5;241m1\u001b[39m],\n\u001b[1;32m    924\u001b[0m                                               logs_response, format_error_response), logger\u001b[38;5;241m=\u001b[39mmodule_logger)\n\u001b[1;32m    925\u001b[0m     \u001b[38;5;28mprint\u001b[39m(\u001b[38;5;124m'\u001b[39m\u001b[38;5;132;01m{}\u001b[39;00m\u001b[38;5;124m service creation operation finished, operation \u001b[39m\u001b[38;5;124m\"\u001b[39m\u001b[38;5;132;01m{}\u001b[39;00m\u001b[38;5;124m\"\u001b[39m\u001b[38;5;124m'\u001b[39m\u001b[38;5;241m.\u001b[39mformat(\u001b[38;5;28mself\u001b[39m\u001b[38;5;241m.\u001b[39m_webservice_type,\n\u001b[1;32m    926\u001b[0m                                                                           operation_state))\n\u001b[1;32m    927\u001b[0m \u001b[38;5;28;01mexcept\u001b[39;00m WebserviceException \u001b[38;5;28;01mas\u001b[39;00m e:\n",
            "\u001b[0;31mWebserviceException\u001b[0m: WebserviceException:\n\tMessage: Service deployment polling reached non-successful terminal state, current service state: Transitioning\nOperation ID: 7777de4a-c33f-4dd0-8386-039caf994256\nMore information can be found using '.get_logs()'\nError:\n{\n  \"code\": \"DeploymentTimedOut\",\n  \"statusCode\": 504,\n  \"message\": \"Timed out waiting for AKS deployment to complete. pollTimeout : 00:20:00 serviceName: breast-cancer-custom-service serviceId: 16339ae6-e93b-404f-87df-917b87bd5cc7\",\n  \"details\": [\n    {\n      \"code\": \"DeploymentTimedOut\",\n      \"message\": \"Your container endpoint is not available. Please follow the steps to debug:\n\t1. From the AML SDK, you can run print(service.get_logs()) if you have service object to fetch the logs. Please refer to https://aka.ms/debugimage#dockerlog for more information.\n\t2. You can also interactively debug your scoring file locally. Please refer to https://docs.microsoft.com/azure/machine-learning/how-to-debug-visual-studio-code#debug-and-troubleshoot-deployments for more information.\n\t3. For AKS deployment with custom certificate, you need to update your DNS record to point to the IP address of scoring endpoint. Please refer to https://docs.microsoft.com/azure/machine-learning/how-to-secure-web-service#update-your-dns for more information.\n\t4. View the diagnostic events to check status of container, it may help you to debug the issue.\n{\"InvolvedObject\":\"breast-cancer-custom-service-5d79cb7656-cd6h2\",\"InvolvedKind\":\"Pod\",\"Type\":\"Normal\",\"Reason\":\"Scheduled\",\"Message\":\"Successfully assigned azureml-cdh-azml-dev-mlw/breast-cancer-custom-service-5d79cb7656-cd6h2 to aks-agentpool-41265225-vmss000000\",\"LastTimestamp\":\"2022-09-06T18:14:49Z\"}\n{\"InvolvedObject\":\"breast-cancer-custom-service-5d79cb7656-cd6h2\",\"InvolvedKind\":\"Pod\",\"Type\":\"Warning\",\"Reason\":\"FailedMount\",\"Message\":\"MountVolume.MountDevice failed for volume \"breast-cancer-custom-service0c15c8cd891f4e119fc1dd716946c1ac-pvc\" : kubernetes.io/csi: attacher.MountDevice failed to create newCsiDriverClient: driver name blob.csi.azure.com not found in the list of registered CSI drivers\",\"LastTimestamp\":\"2022-09-06T18:15:22Z\"}\n{\"InvolvedObject\":\"breast-cancer-custom-service-5d79cb7656-cd6h2\",\"InvolvedKind\":\"Pod\",\"Type\":\"Warning\",\"Reason\":\"FailedMount\",\"Message\":\"Unable to attach or mount volumes: unmounted volumes=[staging], unattached volumes=[kube-api-access-qhw7v staging structure emptymount]: timed out waiting for the condition\",\"LastTimestamp\":\"2022-09-06T18:25:55Z\"}\n{\"InvolvedObject\":\"breast-cancer-custom-service-5d79cb7656-cd6h2\",\"InvolvedKind\":\"Pod\",\"Type\":\"Warning\",\"Reason\":\"FailedMount\",\"Message\":\"Unable to attach or mount volumes: unmounted volumes=[staging], unattached volumes=[emptymount kube-api-access-qhw7v staging structure]: timed out waiting for the condition\",\"LastTimestamp\":\"2022-09-06T18:28:13Z\"}\n{\"InvolvedObject\":\"breast-cancer-custom-service-5d79cb7656-cd6h2\",\"InvolvedKind\":\"Pod\",\"Type\":\"Warning\",\"Reason\":\"FailedMount\",\"Message\":\"Unable to attach or mount volumes: unmounted volumes=[staging], unattached volumes=[staging structure emptymount kube-api-access-qhw7v]: timed out waiting for the condition\",\"LastTimestamp\":\"2022-09-06T18:30:28Z\"}\n{\"InvolvedObject\":\"breast-cancer-custom-service-5d79cb7656-cd6h2\",\"InvolvedKind\":\"Pod\",\"Type\":\"Warning\",\"Reason\":\"FailedMount\",\"Message\":\"Unable to attach or mount volumes: unmounted volumes=[staging], unattached volumes=[structure emptymount kube-api-access-qhw7v staging]: timed out waiting for the condition\",\"LastTimestamp\":\"2022-09-06T18:32:45Z\"}\n{\"InvolvedObject\":\"breast-cancer-custom-service-5d79cb7656-cd6h2\",\"InvolvedKind\":\"Pod\",\"Type\":\"Warning\",\"Reason\":\"FailedMount\",\"Message\":\"MountVolume.MountDevice failed for volume \"breast-cancer-custom-service0c15c8cd891f4e119fc1dd716946c1ac-pvc\" : rpc error: code = Unknown desc = Mount failed with error: exit status 255, output: Unable to start blobfuse. Failed to connect to the storage container. There might be something wrong about the storage config, please double check the storage account name, account key/sas token/OAuth access token and container name. errno=403\nUnable to start blobfuse due to authentication or connectivity issues. Please check the readme for valid auth setups.\nno config filedone reading env vars\",\"LastTimestamp\":\"2022-09-06T18:33:16Z\"}\n\"\n    }\n  ]\n}\n\tInnerException None\n\tErrorResponse \n{\n    \"error\": {\n        \"message\": \"Service deployment polling reached non-successful terminal state, current service state: Transitioning\\nOperation ID: 7777de4a-c33f-4dd0-8386-039caf994256\\nMore information can be found using '.get_logs()'\\nError:\\n{\\n  \\\"code\\\": \\\"DeploymentTimedOut\\\",\\n  \\\"statusCode\\\": 504,\\n  \\\"message\\\": \\\"Timed out waiting for AKS deployment to complete. pollTimeout : 00:20:00 serviceName: breast-cancer-custom-service serviceId: 16339ae6-e93b-404f-87df-917b87bd5cc7\\\",\\n  \\\"details\\\": [\\n    {\\n      \\\"code\\\": \\\"DeploymentTimedOut\\\",\\n      \\\"message\\\": \\\"Your container endpoint is not available. Please follow the steps to debug:\\n\\t1. From the AML SDK, you can run print(service.get_logs()) if you have service object to fetch the logs. Please refer to https://aka.ms/debugimage#dockerlog for more information.\\n\\t2. You can also interactively debug your scoring file locally. Please refer to https://docs.microsoft.com/azure/machine-learning/how-to-debug-visual-studio-code#debug-and-troubleshoot-deployments for more information.\\n\\t3. For AKS deployment with custom certificate, you need to update your DNS record to point to the IP address of scoring endpoint. Please refer to https://docs.microsoft.com/azure/machine-learning/how-to-secure-web-service#update-your-dns for more information.\\n\\t4. View the diagnostic events to check status of container, it may help you to debug the issue.\\n{\\\"InvolvedObject\\\":\\\"breast-cancer-custom-service-5d79cb7656-cd6h2\\\",\\\"InvolvedKind\\\":\\\"Pod\\\",\\\"Type\\\":\\\"Normal\\\",\\\"Reason\\\":\\\"Scheduled\\\",\\\"Message\\\":\\\"Successfully assigned azureml-cdh-azml-dev-mlw/breast-cancer-custom-service-5d79cb7656-cd6h2 to aks-agentpool-41265225-vmss000000\\\",\\\"LastTimestamp\\\":\\\"2022-09-06T18:14:49Z\\\"}\\n{\\\"InvolvedObject\\\":\\\"breast-cancer-custom-service-5d79cb7656-cd6h2\\\",\\\"InvolvedKind\\\":\\\"Pod\\\",\\\"Type\\\":\\\"Warning\\\",\\\"Reason\\\":\\\"FailedMount\\\",\\\"Message\\\":\\\"MountVolume.MountDevice failed for volume \\\"breast-cancer-custom-service0c15c8cd891f4e119fc1dd716946c1ac-pvc\\\" : kubernetes.io/csi: attacher.MountDevice failed to create newCsiDriverClient: driver name blob.csi.azure.com not found in the list of registered CSI drivers\\\",\\\"LastTimestamp\\\":\\\"2022-09-06T18:15:22Z\\\"}\\n{\\\"InvolvedObject\\\":\\\"breast-cancer-custom-service-5d79cb7656-cd6h2\\\",\\\"InvolvedKind\\\":\\\"Pod\\\",\\\"Type\\\":\\\"Warning\\\",\\\"Reason\\\":\\\"FailedMount\\\",\\\"Message\\\":\\\"Unable to attach or mount volumes: unmounted volumes=[staging], unattached volumes=[kube-api-access-qhw7v staging structure emptymount]: timed out waiting for the condition\\\",\\\"LastTimestamp\\\":\\\"2022-09-06T18:25:55Z\\\"}\\n{\\\"InvolvedObject\\\":\\\"breast-cancer-custom-service-5d79cb7656-cd6h2\\\",\\\"InvolvedKind\\\":\\\"Pod\\\",\\\"Type\\\":\\\"Warning\\\",\\\"Reason\\\":\\\"FailedMount\\\",\\\"Message\\\":\\\"Unable to attach or mount volumes: unmounted volumes=[staging], unattached volumes=[emptymount kube-api-access-qhw7v staging structure]: timed out waiting for the condition\\\",\\\"LastTimestamp\\\":\\\"2022-09-06T18:28:13Z\\\"}\\n{\\\"InvolvedObject\\\":\\\"breast-cancer-custom-service-5d79cb7656-cd6h2\\\",\\\"InvolvedKind\\\":\\\"Pod\\\",\\\"Type\\\":\\\"Warning\\\",\\\"Reason\\\":\\\"FailedMount\\\",\\\"Message\\\":\\\"Unable to attach or mount volumes: unmounted volumes=[staging], unattached volumes=[staging structure emptymount kube-api-access-qhw7v]: timed out waiting for the condition\\\",\\\"LastTimestamp\\\":\\\"2022-09-06T18:30:28Z\\\"}\\n{\\\"InvolvedObject\\\":\\\"breast-cancer-custom-service-5d79cb7656-cd6h2\\\",\\\"InvolvedKind\\\":\\\"Pod\\\",\\\"Type\\\":\\\"Warning\\\",\\\"Reason\\\":\\\"FailedMount\\\",\\\"Message\\\":\\\"Unable to attach or mount volumes: unmounted volumes=[staging], unattached volumes=[structure emptymount kube-api-access-qhw7v staging]: timed out waiting for the condition\\\",\\\"LastTimestamp\\\":\\\"2022-09-06T18:32:45Z\\\"}\\n{\\\"InvolvedObject\\\":\\\"breast-cancer-custom-service-5d79cb7656-cd6h2\\\",\\\"InvolvedKind\\\":\\\"Pod\\\",\\\"Type\\\":\\\"Warning\\\",\\\"Reason\\\":\\\"FailedMount\\\",\\\"Message\\\":\\\"MountVolume.MountDevice failed for volume \\\"breast-cancer-custom-service0c15c8cd891f4e119fc1dd716946c1ac-pvc\\\" : rpc error: code = Unknown desc = Mount failed with error: exit status 255, output: Unable to start blobfuse. Failed to connect to the storage container. There might be something wrong about the storage config, please double check the storage account name, account key/sas token/OAuth access token and container name. errno=403\\nUnable to start blobfuse due to authentication or connectivity issues. Please check the readme for valid auth setups.\\nno config filedone reading env vars\\\",\\\"LastTimestamp\\\":\\\"2022-09-06T18:33:16Z\\\"}\\n\\\"\\n    }\\n  ]\\n}\"\n    }\n}"
          ]
        }
      ],
      "source": [
        "# https://docs.microsoft.com/en-us/azure/machine-learning/how-to-secure-workspace-vnet?tabs=pe%2Ccli\n",
        "\n",
        "from azureml.core.webservice import AksWebservice, Webservice\n",
        "from azureml.core.model import Model\n",
        "from azureml.core.compute import AksCompute\n",
        "\n",
        "aks_target = AksCompute(ws,\"aks-cdh-dev\")\n",
        "# If deploying to a cluster configured for dev/test, ensure that it was created with enough\n",
        "# cores and memory to handle this deployment configuration. Note that memory is also used by\n",
        "# things such as dependencies and AML components.\n",
        "deployment_config = AksWebservice.deploy_configuration(cpu_cores = 1, \n",
        "                                                    memory_gb = 1)\n",
        "service = Model.deploy(ws, \n",
        "                        service_name, \n",
        "                        [model], \n",
        "                        inference_config, \n",
        "                        deployment_config, \n",
        "                        aks_target)\n",
        "service.wait_for_deployment(show_output = True)\n",
        "print(service.state)\n",
        "print(service.get_logs())"
      ]
    }
  ],
  "metadata": {
    "kernel_info": {
      "name": "python38-azureml"
    },
    "kernelspec": {
      "display_name": "Python 3.7.10 ('azureml')",
      "language": "python",
      "name": "python3"
    },
    "language_info": {
      "codemirror_mode": {
        "name": "ipython",
        "version": 3
      },
      "file_extension": ".py",
      "mimetype": "text/x-python",
      "name": "python",
      "nbconvert_exporter": "python",
      "pygments_lexer": "ipython3",
      "version": "3.7.10"
    },
    "microsoft": {
      "host": {
        "AzureML": {
          "notebookHasBeenCompleted": true
        }
      }
    },
    "nteract": {
      "version": "nteract-front-end@1.0.0"
    },
    "vscode": {
      "interpreter": {
        "hash": "c29d249f6248e1876db3a43ab8bde2e53ec2cf908dd5eb31493a2d1f2322e9b6"
      }
    }
  },
  "nbformat": 4,
  "nbformat_minor": 2
}
