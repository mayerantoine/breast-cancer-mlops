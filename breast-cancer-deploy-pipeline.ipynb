{
  "cells": [
    {
      "cell_type": "code",
      "source": [
        "# https://github.com/Azure/MachineLearningNotebooks/blob/master/how-to-use-azureml/deployment/deploy-to-cloud/model-register-and-deploy.ipynb\r\n",
        "# https://github.com/Azure/MachineLearningNotebooks/blob/master/how-to-use-azureml/deployment/deploy-to-local/register-model-deploy-local-advanced.ipynb\r\n",
        "\r\n",
        "from azureml.core import  Workspace\r\n",
        "from azureml.core.authentication import InteractiveLoginAuthentication\r\n",
        "\r\n",
        "from azureml.core.environment import Environment \r\n",
        "from azureml.core.webservice import AciWebservice,Webservice\r\n",
        "from azureml.core.model import Model,InferenceConfig\r\n",
        "\r\n",
        "interactive_auth = InteractiveLoginAuthentication(tenant_id=\"9ce70869-60db-44fd-abe8-d2767077fc8f\")\r\n",
        "ws = Workspace.from_config()\r\n"
      ],
      "outputs": [],
      "execution_count": 39,
      "metadata": {
        "gather": {
          "logged": 1662485497032
        }
      }
    },
    {
      "cell_type": "code",
      "source": [
        "print('Workspace name: ' + ws.name, \r\n",
        "      'Azure region: ' + ws.location, \r\n",
        "      'Subscription id: ' + ws.subscription_id, \r\n",
        "      'Resource group: ' + ws.resource_group, sep = '\\n')"
      ],
      "outputs": [
        {
          "output_type": "stream",
          "name": "stdout",
          "text": "Workspace name: cdh-azml-dev-mlw\nAzure region: eastus\nSubscription id: 320d8d57-c87c-4434-827f-59ee7d86687a\nResource group: csels-cdh-dev\n"
        }
      ],
      "execution_count": 40,
      "metadata": {
        "jupyter": {
          "source_hidden": false,
          "outputs_hidden": false
        },
        "nteract": {
          "transient": {
            "deleting": false
          }
        },
        "gather": {
          "logged": 1662485497184
        }
      }
    },
    {
      "cell_type": "code",
      "source": [
        "import sklearn\r\n",
        "from azureml.core import Model\r\n",
        "from azureml.core.resource_configuration import ResourceConfiguration\r\n",
        "\r\n",
        "print(sklearn.__version__)"
      ],
      "outputs": [
        {
          "output_type": "stream",
          "name": "stdout",
          "text": "1.1.2\n"
        }
      ],
      "execution_count": 41,
      "metadata": {
        "jupyter": {
          "source_hidden": false,
          "outputs_hidden": false
        },
        "nteract": {
          "transient": {
            "deleting": false
          }
        },
        "gather": {
          "logged": 1662485497336
        }
      }
    },
    {
      "cell_type": "code",
      "source": [
        "model = Model(workspace=ws,name='breast-cancer',version=2)"
      ],
      "outputs": [],
      "execution_count": 42,
      "metadata": {
        "jupyter": {
          "source_hidden": false,
          "outputs_hidden": false
        },
        "nteract": {
          "transient": {
            "deleting": false
          }
        },
        "gather": {
          "logged": 1662485499829
        }
      }
    },
    {
      "cell_type": "code",
      "source": [
        "import os\r\n",
        "print(os.getenv(\"AZUREML_MODEL_DIR\"))\r\n",
        "#model_path = Model.get_model_path(os.getenv(\"AZUREML_MODEL_DIR\").split('/')[-2])"
      ],
      "outputs": [
        {
          "output_type": "stream",
          "name": "stdout",
          "text": "None\n"
        }
      ],
      "execution_count": 43,
      "metadata": {
        "jupyter": {
          "source_hidden": false,
          "outputs_hidden": false
        },
        "nteract": {
          "transient": {
            "deleting": false
          }
        },
        "gather": {
          "logged": 1662485499946
        }
      }
    },
    {
      "cell_type": "code",
      "source": [
        "import os\r\n",
        "\r\n",
        "os.makedirs('./aml_outputs/',exist_ok=True)\r\n",
        "model.download(target_dir='./aml_outputs/',exist_ok=True)"
      ],
      "outputs": [
        {
          "output_type": "execute_result",
          "execution_count": 44,
          "data": {
            "text/plain": "'aml_outputs/cancer_model.pkl'"
          },
          "metadata": {}
        }
      ],
      "execution_count": 44,
      "metadata": {
        "jupyter": {
          "source_hidden": false,
          "outputs_hidden": false
        },
        "nteract": {
          "transient": {
            "deleting": false
          }
        },
        "gather": {
          "logged": 1662485509349
        }
      }
    },
    {
      "cell_type": "code",
      "source": [
        "%%writefile ./scripts/score.py\r\n",
        "\r\n",
        "import joblib\r\n",
        "import json\r\n",
        "import numpy as np\r\n",
        "import os\r\n",
        "\r\n",
        "from inference_schema.schema_decorators import input_schema, output_schema\r\n",
        "from inference_schema.parameter_types.numpy_parameter_type import NumpyParameterType\r\n",
        "\r\n",
        "def init():\r\n",
        "    global model\r\n",
        "    # AZUREML_MODEL_DIR is an environment variable created during deployment. Join this path with the filename of the model file.\r\n",
        "    # It holds the path to the directory that contains the deployed model (./azureml-models/$MODEL_NAME/$VERSION)\r\n",
        "    # If there are multiple models, this value is the path to the directory containing all deployed models (./azureml-models)\r\n",
        "    model_path = os.path.join(os.getenv('AZUREML_MODEL_DIR'), 'cancer_model.pkl')\r\n",
        "    # Deserialize the model file back into a sklearn model.\r\n",
        "    model = joblib.load(model_path)\r\n",
        "\r\n",
        "\r\n",
        "\r\n",
        "input_sample = np.array([[0.393845668409139, -0.7457496952627328, -0.22189398515428446, -0.7676382304726264, -0.6999246324662508, -0.17745016145311038, \r\n",
        "-0.81484548808207, -0.770581761525873, -0.7189314051409194, 0.07367558407930598, -0.4665409990624931, -0.06425072325003647, -0.667435753669589, \r\n",
        "-0.10209930505592255, -0.2928749021935234, -0.18393920631817678, -0.8204798568998558, -0.6065568523529427, -0.395651155530143, 0.3134950272756633,\r\n",
        " -0.8678658791041564, -0.6897420117050609, -0.5598110994362666, -0.723009965205552, -0.6542518616646612, -0.5936861839456196,\r\n",
        " -0.9574791012332506, -0.9270503937797329, -0.7552651134179409, -0.2651797994882257, -1.0640128515011344]])\r\n",
        "output_sample = np.array([0])\r\n",
        "\r\n",
        "@input_schema('data', NumpyParameterType(input_sample))\r\n",
        "@output_schema(NumpyParameterType(output_sample))\r\n",
        "def run(data):\r\n",
        "    try:\r\n",
        "        print(\"input_data....\")\r\n",
        "        print(type(data))\r\n",
        "        result = model.predict(data)\r\n",
        "        # You can return any JSON-serializable object.\r\n",
        "        return \"here is your result = \" + str(result)\r\n",
        "    except Exception as e:\r\n",
        "        error = str(e)\r\n",
        "        return error"
      ],
      "outputs": [
        {
          "output_type": "stream",
          "name": "stdout",
          "text": "Overwriting ./scripts/score.py\n"
        }
      ],
      "execution_count": 45,
      "metadata": {
        "jupyter": {
          "source_hidden": false,
          "outputs_hidden": false
        },
        "nteract": {
          "transient": {
            "deleting": false
          }
        }
      }
    },
    {
      "cell_type": "markdown",
      "source": [
        "### use custom envirronment"
      ],
      "metadata": {
        "nteract": {
          "transient": {
            "deleting": false
          }
        }
      }
    },
    {
      "cell_type": "code",
      "source": [
        "print('scikit-learn=={}'.format(sklearn.__version__))"
      ],
      "outputs": [
        {
          "output_type": "stream",
          "name": "stdout",
          "text": "scikit-learn==1.1.2\n"
        }
      ],
      "execution_count": 46,
      "metadata": {
        "jupyter": {
          "source_hidden": false,
          "outputs_hidden": false
        },
        "nteract": {
          "transient": {
            "deleting": false
          }
        },
        "gather": {
          "logged": 1662485509593
        }
      }
    },
    {
      "cell_type": "code",
      "source": [
        "from azureml.core import Environment\r\n",
        "from azureml.core.conda_dependencies import CondaDependencies\r\n",
        "\r\n",
        "\r\n",
        "environment = Environment('my-sklearn-environment')\r\n",
        "environment.python.conda_dependencies = CondaDependencies.create(conda_packages=[\r\n",
        "    'pip==20.2.4'],\r\n",
        "    pip_packages=[\r\n",
        "    'azureml-defaults',\r\n",
        "    'pandas',\r\n",
        "    'inference-schema[numpy-support]',\r\n",
        "    'joblib',\r\n",
        "    'numpy',\r\n",
        "    'scikit-learn'\r\n",
        "])"
      ],
      "outputs": [],
      "execution_count": 47,
      "metadata": {
        "jupyter": {
          "source_hidden": false,
          "outputs_hidden": false
        },
        "nteract": {
          "transient": {
            "deleting": false
          }
        },
        "gather": {
          "logged": 1662485509713
        }
      }
    },
    {
      "cell_type": "markdown",
      "source": [
        "#### Create Inference Configuration\r\n",
        "\r\n",
        "* file_path: input parameter to Environment constructor. Manages conda and python package dependencies.\r\n",
        "* env.docker.base_dockerfile: any extra steps you want to inject into docker file\r\n",
        "* source_directory: holds source path as string, this entire folder gets added in image so its really easy to access any files within this folder or subfolder\r\n",
        "* entry_script: contains logic specific to initializing your model and running predictions"
      ],
      "metadata": {
        "nteract": {
          "transient": {
            "deleting": false
          }
        }
      }
    },
    {
      "cell_type": "code",
      "source": [
        "from azureml.core.model import InferenceConfig\r\n",
        "from azureml.core.webservice import AciWebservice\r\n",
        "\r\n",
        "\r\n",
        "service_name = 'breast-cancer-custom-service'\r\n",
        "\r\n",
        "inference_config = InferenceConfig(entry_script='./scripts/score.py', environment=environment)\r\n",
        "aci_config = AciWebservice.deploy_configuration(cpu_cores=1,\r\n",
        "                                                memory_gb=1 )\r\n",
        "                                                #vnet_name='csels-cdh-dev-vnet', \r\n",
        "                                                #subnet_name='cdh-azml-dev-snet')\r\n",
        "\r\n",
        "\r\n",
        "\r\n",
        "service = Model.deploy(workspace=ws,\r\n",
        "                       name=service_name,\r\n",
        "                       models=[model],\r\n",
        "                       inference_config=inference_config,\r\n",
        "                       deployment_config=aci_config,\r\n",
        "                       overwrite=True)\r\n",
        "service.wait_for_deployment(show_output=True)"
      ],
      "outputs": [
        {
          "output_type": "stream",
          "name": "stdout",
          "text": "Tips: You can try get_logs(): https://aka.ms/debugimage#dockerlog or local deployment: https://aka.ms/debugimage#debug-locally to debug if deployment takes longer than 10 minutes.\nFailed"
        },
        {
          "output_type": "stream",
          "name": "stderr",
          "text": "Service deployment polling reached non-successful terminal state, current service state: Unhealthy\nOperation ID: 1cdd7ede-42c5-4644-ac57-12f9a39e2522\nMore information can be found using '.get_logs()'\nError:\n{\n  \"code\": \"IpConfigProfileCannotReferToSubnetInUseWithResource\",\n  \"statusCode\": 400,\n  \"message\": \"Vnet Service request failed. Reason: IpConfigurationProfile /subscriptions/320d8d57-c87c-4434-827f-59ee7d86687a/resourceGroups/csels-cdh-dev/providers/Microsoft.Network/networkProfiles/aci-network-profile-csels-cdh-dev-vnet-cdh-azml-dev-snet/containerNetworkInterfaceConfigurations/eth0/ipConfigurations/ipconfig1 cannot refer to subnet /subscriptions/320d8d57-c87c-4434-827f-59ee7d86687a/resourceGroups/CSELS-CDH-DEV/providers/Microsoft.Network/virtualNetworks/csels-cdh-dev-vnet/subnets/cdh-azml-dev-snet since it is in use with resource /subscriptions/8cac8a7b-baf4-4965-ba8d-db72ccbb7c68/resourceGroups/223572a6-d321-404f-b766-4ed67aca786e-AzureBatch-CloudService/providers/Microsoft.Network/networkInterfaces/|providers|Microsoft.Compute|virtualMachineScaleSets|223572a6-d321-404f-b766-4ed67aca786e-AzureBatch-Deployment|virtualMachines|0|networkInterfaces|nic1/ipConfigurations/ip1..\"\n}\n\n"
        },
        {
          "output_type": "error",
          "ename": "WebserviceException",
          "evalue": "WebserviceException:\n\tMessage: Service deployment polling reached non-successful terminal state, current service state: Unhealthy\nOperation ID: 1cdd7ede-42c5-4644-ac57-12f9a39e2522\nMore information can be found using '.get_logs()'\nError:\n{\n  \"code\": \"IpConfigProfileCannotReferToSubnetInUseWithResource\",\n  \"statusCode\": 400,\n  \"message\": \"Vnet Service request failed. Reason: IpConfigurationProfile /subscriptions/320d8d57-c87c-4434-827f-59ee7d86687a/resourceGroups/csels-cdh-dev/providers/Microsoft.Network/networkProfiles/aci-network-profile-csels-cdh-dev-vnet-cdh-azml-dev-snet/containerNetworkInterfaceConfigurations/eth0/ipConfigurations/ipconfig1 cannot refer to subnet /subscriptions/320d8d57-c87c-4434-827f-59ee7d86687a/resourceGroups/CSELS-CDH-DEV/providers/Microsoft.Network/virtualNetworks/csels-cdh-dev-vnet/subnets/cdh-azml-dev-snet since it is in use with resource /subscriptions/8cac8a7b-baf4-4965-ba8d-db72ccbb7c68/resourceGroups/223572a6-d321-404f-b766-4ed67aca786e-AzureBatch-CloudService/providers/Microsoft.Network/networkInterfaces/|providers|Microsoft.Compute|virtualMachineScaleSets|223572a6-d321-404f-b766-4ed67aca786e-AzureBatch-Deployment|virtualMachines|0|networkInterfaces|nic1/ipConfigurations/ip1..\"\n}\n\tInnerException None\n\tErrorResponse \n{\n    \"error\": {\n        \"message\": \"Service deployment polling reached non-successful terminal state, current service state: Unhealthy\\nOperation ID: 1cdd7ede-42c5-4644-ac57-12f9a39e2522\\nMore information can be found using '.get_logs()'\\nError:\\n{\\n  \\\"code\\\": \\\"IpConfigProfileCannotReferToSubnetInUseWithResource\\\",\\n  \\\"statusCode\\\": 400,\\n  \\\"message\\\": \\\"Vnet Service request failed. Reason: IpConfigurationProfile /subscriptions/320d8d57-c87c-4434-827f-59ee7d86687a/resourceGroups/csels-cdh-dev/providers/Microsoft.Network/networkProfiles/aci-network-profile-csels-cdh-dev-vnet-cdh-azml-dev-snet/containerNetworkInterfaceConfigurations/eth0/ipConfigurations/ipconfig1 cannot refer to subnet /subscriptions/320d8d57-c87c-4434-827f-59ee7d86687a/resourceGroups/CSELS-CDH-DEV/providers/Microsoft.Network/virtualNetworks/csels-cdh-dev-vnet/subnets/cdh-azml-dev-snet since it is in use with resource /subscriptions/8cac8a7b-baf4-4965-ba8d-db72ccbb7c68/resourceGroups/223572a6-d321-404f-b766-4ed67aca786e-AzureBatch-CloudService/providers/Microsoft.Network/networkInterfaces/|providers|Microsoft.Compute|virtualMachineScaleSets|223572a6-d321-404f-b766-4ed67aca786e-AzureBatch-Deployment|virtualMachines|0|networkInterfaces|nic1/ipConfigurations/ip1..\\\"\\n}\"\n    }\n}",
          "traceback": [
            "\u001b[0;31m---------------------------------------------------------------------------\u001b[0m",
            "\u001b[0;31mWebserviceException\u001b[0m                       Traceback (most recent call last)",
            "Input \u001b[0;32mIn [48]\u001b[0m, in \u001b[0;36m<cell line: 21>\u001b[0;34m()\u001b[0m\n\u001b[1;32m     10\u001b[0m                                                 \u001b[38;5;66;03m#vnet_name='csels-cdh-dev-vnet', \u001b[39;00m\n\u001b[1;32m     11\u001b[0m                                                 \u001b[38;5;66;03m#subnet_name='cdh-azml-dev-snet')\u001b[39;00m\n\u001b[1;32m     15\u001b[0m service \u001b[38;5;241m=\u001b[39m Model\u001b[38;5;241m.\u001b[39mdeploy(workspace\u001b[38;5;241m=\u001b[39mws,\n\u001b[1;32m     16\u001b[0m                        name\u001b[38;5;241m=\u001b[39mservice_name,\n\u001b[1;32m     17\u001b[0m                        models\u001b[38;5;241m=\u001b[39m[model],\n\u001b[1;32m     18\u001b[0m                        inference_config\u001b[38;5;241m=\u001b[39minference_config,\n\u001b[1;32m     19\u001b[0m                        deployment_config\u001b[38;5;241m=\u001b[39maci_config,\n\u001b[1;32m     20\u001b[0m                        overwrite\u001b[38;5;241m=\u001b[39m\u001b[38;5;28;01mTrue\u001b[39;00m)\n\u001b[0;32m---> 21\u001b[0m \u001b[43mservice\u001b[49m\u001b[38;5;241;43m.\u001b[39;49m\u001b[43mwait_for_deployment\u001b[49m\u001b[43m(\u001b[49m\u001b[43mshow_output\u001b[49m\u001b[38;5;241;43m=\u001b[39;49m\u001b[38;5;28;43;01mTrue\u001b[39;49;00m\u001b[43m)\u001b[49m\n",
            "File \u001b[0;32m/anaconda/envs/azureml_py38/lib/python3.8/site-packages/azureml/core/webservice/webservice.py:918\u001b[0m, in \u001b[0;36mWebservice.wait_for_deployment\u001b[0;34m(self, show_output, timeout_sec)\u001b[0m\n\u001b[1;32m    915\u001b[0m         \u001b[38;5;28;01mif\u001b[39;00m \u001b[38;5;129;01mnot\u001b[39;00m logs_response:\n\u001b[1;32m    916\u001b[0m             logs_response \u001b[38;5;241m=\u001b[39m \u001b[38;5;124m'\u001b[39m\u001b[38;5;124mCurrent sub-operation type not known, more logs unavailable.\u001b[39m\u001b[38;5;124m'\u001b[39m\n\u001b[0;32m--> 918\u001b[0m         \u001b[38;5;28;01mraise\u001b[39;00m WebserviceException(\u001b[38;5;124m'\u001b[39m\u001b[38;5;124mService deployment polling reached non-successful terminal state, current \u001b[39m\u001b[38;5;124m'\u001b[39m\n\u001b[1;32m    919\u001b[0m                                   \u001b[38;5;124m'\u001b[39m\u001b[38;5;124mservice state: \u001b[39m\u001b[38;5;132;01m{}\u001b[39;00m\u001b[38;5;130;01m\\n\u001b[39;00m\u001b[38;5;124m'\u001b[39m\n\u001b[1;32m    920\u001b[0m                                   \u001b[38;5;124m'\u001b[39m\u001b[38;5;124mOperation ID: \u001b[39m\u001b[38;5;132;01m{}\u001b[39;00m\u001b[38;5;130;01m\\n\u001b[39;00m\u001b[38;5;124m'\u001b[39m\n\u001b[1;32m    921\u001b[0m                                   \u001b[38;5;124m'\u001b[39m\u001b[38;5;132;01m{}\u001b[39;00m\u001b[38;5;130;01m\\n\u001b[39;00m\u001b[38;5;124m'\u001b[39m\n\u001b[1;32m    922\u001b[0m                                   \u001b[38;5;124m'\u001b[39m\u001b[38;5;124mError:\u001b[39m\u001b[38;5;130;01m\\n\u001b[39;00m\u001b[38;5;124m'\u001b[39m\n\u001b[1;32m    923\u001b[0m                                   \u001b[38;5;124m'\u001b[39m\u001b[38;5;132;01m{}\u001b[39;00m\u001b[38;5;124m'\u001b[39m\u001b[38;5;241m.\u001b[39mformat(\u001b[38;5;28mself\u001b[39m\u001b[38;5;241m.\u001b[39mstate, \u001b[38;5;28mself\u001b[39m\u001b[38;5;241m.\u001b[39m_operation_endpoint\u001b[38;5;241m.\u001b[39msplit(\u001b[38;5;124m'\u001b[39m\u001b[38;5;124m/\u001b[39m\u001b[38;5;124m'\u001b[39m)[\u001b[38;5;241m-\u001b[39m\u001b[38;5;241m1\u001b[39m],\n\u001b[1;32m    924\u001b[0m                                               logs_response, format_error_response), logger\u001b[38;5;241m=\u001b[39mmodule_logger)\n\u001b[1;32m    925\u001b[0m     \u001b[38;5;28mprint\u001b[39m(\u001b[38;5;124m'\u001b[39m\u001b[38;5;132;01m{}\u001b[39;00m\u001b[38;5;124m service creation operation finished, operation \u001b[39m\u001b[38;5;124m\"\u001b[39m\u001b[38;5;132;01m{}\u001b[39;00m\u001b[38;5;124m\"\u001b[39m\u001b[38;5;124m'\u001b[39m\u001b[38;5;241m.\u001b[39mformat(\u001b[38;5;28mself\u001b[39m\u001b[38;5;241m.\u001b[39m_webservice_type,\n\u001b[1;32m    926\u001b[0m                                                                           operation_state))\n\u001b[1;32m    927\u001b[0m \u001b[38;5;28;01mexcept\u001b[39;00m WebserviceException \u001b[38;5;28;01mas\u001b[39;00m e:\n",
            "\u001b[0;31mWebserviceException\u001b[0m: WebserviceException:\n\tMessage: Service deployment polling reached non-successful terminal state, current service state: Unhealthy\nOperation ID: 1cdd7ede-42c5-4644-ac57-12f9a39e2522\nMore information can be found using '.get_logs()'\nError:\n{\n  \"code\": \"IpConfigProfileCannotReferToSubnetInUseWithResource\",\n  \"statusCode\": 400,\n  \"message\": \"Vnet Service request failed. Reason: IpConfigurationProfile /subscriptions/320d8d57-c87c-4434-827f-59ee7d86687a/resourceGroups/csels-cdh-dev/providers/Microsoft.Network/networkProfiles/aci-network-profile-csels-cdh-dev-vnet-cdh-azml-dev-snet/containerNetworkInterfaceConfigurations/eth0/ipConfigurations/ipconfig1 cannot refer to subnet /subscriptions/320d8d57-c87c-4434-827f-59ee7d86687a/resourceGroups/CSELS-CDH-DEV/providers/Microsoft.Network/virtualNetworks/csels-cdh-dev-vnet/subnets/cdh-azml-dev-snet since it is in use with resource /subscriptions/8cac8a7b-baf4-4965-ba8d-db72ccbb7c68/resourceGroups/223572a6-d321-404f-b766-4ed67aca786e-AzureBatch-CloudService/providers/Microsoft.Network/networkInterfaces/|providers|Microsoft.Compute|virtualMachineScaleSets|223572a6-d321-404f-b766-4ed67aca786e-AzureBatch-Deployment|virtualMachines|0|networkInterfaces|nic1/ipConfigurations/ip1..\"\n}\n\tInnerException None\n\tErrorResponse \n{\n    \"error\": {\n        \"message\": \"Service deployment polling reached non-successful terminal state, current service state: Unhealthy\\nOperation ID: 1cdd7ede-42c5-4644-ac57-12f9a39e2522\\nMore information can be found using '.get_logs()'\\nError:\\n{\\n  \\\"code\\\": \\\"IpConfigProfileCannotReferToSubnetInUseWithResource\\\",\\n  \\\"statusCode\\\": 400,\\n  \\\"message\\\": \\\"Vnet Service request failed. Reason: IpConfigurationProfile /subscriptions/320d8d57-c87c-4434-827f-59ee7d86687a/resourceGroups/csels-cdh-dev/providers/Microsoft.Network/networkProfiles/aci-network-profile-csels-cdh-dev-vnet-cdh-azml-dev-snet/containerNetworkInterfaceConfigurations/eth0/ipConfigurations/ipconfig1 cannot refer to subnet /subscriptions/320d8d57-c87c-4434-827f-59ee7d86687a/resourceGroups/CSELS-CDH-DEV/providers/Microsoft.Network/virtualNetworks/csels-cdh-dev-vnet/subnets/cdh-azml-dev-snet since it is in use with resource /subscriptions/8cac8a7b-baf4-4965-ba8d-db72ccbb7c68/resourceGroups/223572a6-d321-404f-b766-4ed67aca786e-AzureBatch-CloudService/providers/Microsoft.Network/networkInterfaces/|providers|Microsoft.Compute|virtualMachineScaleSets|223572a6-d321-404f-b766-4ed67aca786e-AzureBatch-Deployment|virtualMachines|0|networkInterfaces|nic1/ipConfigurations/ip1..\\\"\\n}\"\n    }\n}"
          ]
        }
      ],
      "execution_count": 48,
      "metadata": {
        "jupyter": {
          "source_hidden": false,
          "outputs_hidden": false
        },
        "nteract": {
          "transient": {
            "deleting": false
          }
        },
        "gather": {
          "logged": 1662485547868
        }
      }
    },
    {
      "cell_type": "code",
      "source": [
        "print(service.get_logs())"
      ],
      "outputs": [],
      "execution_count": null,
      "metadata": {
        "jupyter": {
          "source_hidden": false,
          "outputs_hidden": false
        },
        "nteract": {
          "transient": {
            "deleting": false
          }
        },
        "gather": {
          "logged": 1662485548018
        }
      }
    },
    {
      "cell_type": "code",
      "source": [
        "import json\r\n",
        "import numpy as np\r\n",
        "import pandas as pd \r\n",
        "\r\n",
        "input_sample = np.array([[0.393845668409139, -0.7457496952627328, -0.22189398515428446, -0.7676382304726264, -0.6999246324662508, -0.17745016145311038, \r\n",
        "-0.81484548808207, -0.770581761525873, -0.7189314051409194, 0.07367558407930598, -0.4665409990624931, -0.06425072325003647, -0.667435753669589, \r\n",
        "-0.10209930505592255, -0.2928749021935234, -0.18393920631817678, -0.8204798568998558, -0.6065568523529427, -0.395651155530143, 0.3134950272756633,\r\n",
        " -0.8678658791041564, -0.6897420117050609, -0.5598110994362666, -0.723009965205552, -0.6542518616646612, -0.5936861839456196,\r\n",
        " -0.9574791012332506, -0.9270503937797329, -0.7552651134179409, -0.2651797994882257, -1.0640128515011344]])\r\n",
        "\r\n",
        "input_payload = json.dumps({\r\n",
        "    'data': input_sample.tolist()\r\n",
        "})\r\n",
        "\r\n",
        "output = service.run(input_payload)\r\n",
        "\r\n",
        "print(output)"
      ],
      "outputs": [],
      "execution_count": null,
      "metadata": {
        "jupyter": {
          "source_hidden": false,
          "outputs_hidden": false
        },
        "nteract": {
          "transient": {
            "deleting": false
          }
        },
        "gather": {
          "logged": 1662485548033
        }
      }
    },
    {
      "cell_type": "code",
      "source": [
        "import urllib.request\r\n",
        "import json\r\n",
        "import os\r\n",
        "import ssl\r\n",
        "\r\n",
        "def allowSelfSignedHttps(allowed):\r\n",
        "    # bypass the server certificate verification on client side\r\n",
        "    if allowed and not os.environ.get('PYTHONHTTPSVERIFY', '') and getattr(ssl, '_create_unverified_context', None):\r\n",
        "        ssl._create_default_https_context = ssl._create_unverified_context\r\n",
        "\r\n",
        "allowSelfSignedHttps(True) # this line is needed if you use self-signed certificate in your scoring service.\r\n",
        "\r\n",
        "# Request data goes here\r\n",
        "# The example below assumes JSON formatting which may be updated\r\n",
        "# depending on the format your endpoint expects.\r\n",
        "# More information can be found here:\r\n",
        "# https://docs.microsoft.com/azure/machine-learning/how-to-deploy-advanced-entry-script\r\n",
        "data =  {\r\n",
        "  \"data\": [\r\n",
        "    [\r\n",
        "      0.393845668409139,\r\n",
        "      -0.7457496952627328,\r\n",
        "      -0.22189398515428446,\r\n",
        "      -0.7676382304726264,\r\n",
        "      -0.6999246324662508,\r\n",
        "      -0.17745016145311038,\r\n",
        "      -0.81484548808207,\r\n",
        "      -0.770581761525873,\r\n",
        "      -0.7189314051409194,\r\n",
        "      0.07367558407930598,\r\n",
        "      -0.4665409990624931,\r\n",
        "      -0.06425072325003647,\r\n",
        "      -0.667435753669589,\r\n",
        "      -0.10209930505592255,\r\n",
        "      -0.2928749021935234,\r\n",
        "      -0.18393920631817678,\r\n",
        "      -0.8204798568998558,\r\n",
        "      -0.6065568523529427,\r\n",
        "      -0.395651155530143,\r\n",
        "      0.3134950272756633,\r\n",
        "      -0.8678658791041564,\r\n",
        "      -0.6897420117050609,\r\n",
        "      -0.5598110994362666,\r\n",
        "      -0.723009965205552,\r\n",
        "      -0.6542518616646612,\r\n",
        "      -0.5936861839456196,\r\n",
        "      -0.9574791012332506,\r\n",
        "      -0.9270503937797329,\r\n",
        "      -0.7552651134179409,\r\n",
        "      -0.2651797994882257,\r\n",
        "      -1.0640128515011344\r\n",
        "    ]\r\n",
        "  ]\r\n",
        "}\r\n",
        "\r\n",
        "body = str.encode(json.dumps(data))\r\n",
        "\r\n",
        "url = 'http://d29e1866-d35b-4f23-8827-ea1dd1bffd9a.eastus2.azurecontainer.io/score'\r\n",
        "api_key = '' # Replace this with the API key for the web service\r\n",
        "\r\n",
        "# The azureml-model-deployment header will force the request to go to a specific deployment.\r\n",
        "# Remove this header to have the request observe the endpoint traffic rules\r\n",
        "headers = {'Content-Type':'application/json', 'Authorization':('Bearer '+ api_key)}\r\n",
        "\r\n",
        "req = urllib.request.Request(url, body, headers)\r\n",
        "\r\n",
        "try:\r\n",
        "    response = urllib.request.urlopen(req)\r\n",
        "\r\n",
        "    result = response.read()\r\n",
        "    print(result)\r\n",
        "except urllib.error.HTTPError as error:\r\n",
        "    print(\"The request failed with status code: \" + str(error.code))\r\n",
        "\r\n",
        "    # Print the headers - they include the requert ID and the timestamp, which are useful for debugging the failure\r\n",
        "    print(error.info())\r\n",
        "    print(error.read().decode(\"utf8\", 'ignore'))"
      ],
      "outputs": [],
      "execution_count": null,
      "metadata": {
        "jupyter": {
          "source_hidden": false,
          "outputs_hidden": false
        },
        "nteract": {
          "transient": {
            "deleting": false
          }
        },
        "gather": {
          "logged": 1662485548051
        }
      }
    },
    {
      "cell_type": "markdown",
      "source": [
        "## AKS deployment"
      ],
      "metadata": {
        "nteract": {
          "transient": {
            "deleting": false
          }
        }
      }
    },
    {
      "cell_type": "code",
      "source": [
        "# https://docs.microsoft.com/en-us/azure/machine-learning/how-to-secure-workspace-vnet?tabs=pe%2Ccli\r\n",
        "\r\n",
        "from azureml.core.webservice import AksWebservice, Webservice\r\n",
        "from azureml.core.model import Model\r\n",
        "from azureml.core.compute import AksCompute\r\n",
        "\r\n",
        "aks_target = AksCompute(ws,\"aks-cdh-dev\")\r\n",
        "# If deploying to a cluster configured for dev/test, ensure that it was created with enough\r\n",
        "# cores and memory to handle this deployment configuration. Note that memory is also used by\r\n",
        "# things such as dependencies and AML components.\r\n",
        "deployment_config = AksWebservice.deploy_configuration(cpu_cores = 1, \r\n",
        "                                                    memory_gb = 1)\r\n",
        "service = Model.deploy(ws, \r\n",
        "                        service_name, \r\n",
        "                        [model], \r\n",
        "                        inference_config, \r\n",
        "                        deployment_config, \r\n",
        "                        aks_target)\r\n",
        "service.wait_for_deployment(show_output = True)\r\n",
        "print(service.state)\r\n",
        "print(service.get_logs())"
      ],
      "outputs": [
        {
          "output_type": "stream",
          "name": "stdout",
          "text": "Tips: You can try get_logs(): https://aka.ms/debugimage#dockerlog or local deployment: https://aka.ms/debugimage#debug-locally to debug if deployment takes longer than 10 minutes.\nRunning\n2022-09-06 18:14:46+00:00 Creating Container Registry if not exists.\n2022-09-06 18:14:46+00:00 Registering the environment.\n2022-09-06 18:14:47+00:00 Use the existing image.\n2022-09-06 18:14:48+00:00 Creating resources in AKS.\n2022-09-06 18:14:49+00:00 Submitting deployment to compute.\n2022-09-06 18:14:49+00:00 Checking the status of deployment breast-cancer-custom-service.\nTimedOut\n"
        },
        {
          "output_type": "stream",
          "name": "stderr",
          "text": "Service deployment polling reached non-successful terminal state, current service state: Transitioning\nOperation ID: 7777de4a-c33f-4dd0-8386-039caf994256\nMore information can be found using '.get_logs()'\nError:\n{\n  \"code\": \"DeploymentTimedOut\",\n  \"statusCode\": 504,\n  \"message\": \"Timed out waiting for AKS deployment to complete. pollTimeout : 00:20:00 serviceName: breast-cancer-custom-service serviceId: 16339ae6-e93b-404f-87df-917b87bd5cc7\",\n  \"details\": [\n    {\n      \"code\": \"DeploymentTimedOut\",\n      \"message\": \"Your container endpoint is not available. Please follow the steps to debug:\n\t1. From the AML SDK, you can run print(service.get_logs()) if you have service object to fetch the logs. Please refer to https://aka.ms/debugimage#dockerlog for more information.\n\t2. You can also interactively debug your scoring file locally. Please refer to https://docs.microsoft.com/azure/machine-learning/how-to-debug-visual-studio-code#debug-and-troubleshoot-deployments for more information.\n\t3. For AKS deployment with custom certificate, you need to update your DNS record to point to the IP address of scoring endpoint. Please refer to https://docs.microsoft.com/azure/machine-learning/how-to-secure-web-service#update-your-dns for more information.\n\t4. View the diagnostic events to check status of container, it may help you to debug the issue.\n{\"InvolvedObject\":\"breast-cancer-custom-service-5d79cb7656-cd6h2\",\"InvolvedKind\":\"Pod\",\"Type\":\"Normal\",\"Reason\":\"Scheduled\",\"Message\":\"Successfully assigned azureml-cdh-azml-dev-mlw/breast-cancer-custom-service-5d79cb7656-cd6h2 to aks-agentpool-41265225-vmss000000\",\"LastTimestamp\":\"2022-09-06T18:14:49Z\"}\n{\"InvolvedObject\":\"breast-cancer-custom-service-5d79cb7656-cd6h2\",\"InvolvedKind\":\"Pod\",\"Type\":\"Warning\",\"Reason\":\"FailedMount\",\"Message\":\"MountVolume.MountDevice failed for volume \"breast-cancer-custom-service0c15c8cd891f4e119fc1dd716946c1ac-pvc\" : kubernetes.io/csi: attacher.MountDevice failed to create newCsiDriverClient: driver name blob.csi.azure.com not found in the list of registered CSI drivers\",\"LastTimestamp\":\"2022-09-06T18:15:22Z\"}\n{\"InvolvedObject\":\"breast-cancer-custom-service-5d79cb7656-cd6h2\",\"InvolvedKind\":\"Pod\",\"Type\":\"Warning\",\"Reason\":\"FailedMount\",\"Message\":\"Unable to attach or mount volumes: unmounted volumes=[staging], unattached volumes=[kube-api-access-qhw7v staging structure emptymount]: timed out waiting for the condition\",\"LastTimestamp\":\"2022-09-06T18:25:55Z\"}\n{\"InvolvedObject\":\"breast-cancer-custom-service-5d79cb7656-cd6h2\",\"InvolvedKind\":\"Pod\",\"Type\":\"Warning\",\"Reason\":\"FailedMount\",\"Message\":\"Unable to attach or mount volumes: unmounted volumes=[staging], unattached volumes=[emptymount kube-api-access-qhw7v staging structure]: timed out waiting for the condition\",\"LastTimestamp\":\"2022-09-06T18:28:13Z\"}\n{\"InvolvedObject\":\"breast-cancer-custom-service-5d79cb7656-cd6h2\",\"InvolvedKind\":\"Pod\",\"Type\":\"Warning\",\"Reason\":\"FailedMount\",\"Message\":\"Unable to attach or mount volumes: unmounted volumes=[staging], unattached volumes=[staging structure emptymount kube-api-access-qhw7v]: timed out waiting for the condition\",\"LastTimestamp\":\"2022-09-06T18:30:28Z\"}\n{\"InvolvedObject\":\"breast-cancer-custom-service-5d79cb7656-cd6h2\",\"InvolvedKind\":\"Pod\",\"Type\":\"Warning\",\"Reason\":\"FailedMount\",\"Message\":\"Unable to attach or mount volumes: unmounted volumes=[staging], unattached volumes=[structure emptymount kube-api-access-qhw7v staging]: timed out waiting for the condition\",\"LastTimestamp\":\"2022-09-06T18:32:45Z\"}\n{\"InvolvedObject\":\"breast-cancer-custom-service-5d79cb7656-cd6h2\",\"InvolvedKind\":\"Pod\",\"Type\":\"Warning\",\"Reason\":\"FailedMount\",\"Message\":\"MountVolume.MountDevice failed for volume \"breast-cancer-custom-service0c15c8cd891f4e119fc1dd716946c1ac-pvc\" : rpc error: code = Unknown desc = Mount failed with error: exit status 255, output: Unable to start blobfuse. Failed to connect to the storage container. There might be something wrong about the storage config, please double check the storage account name, account key/sas token/OAuth access token and container name. errno=403\nUnable to start blobfuse due to authentication or connectivity issues. Please check the readme for valid auth setups.\nno config filedone reading env vars\",\"LastTimestamp\":\"2022-09-06T18:33:16Z\"}\n\"\n    }\n  ]\n}\n\n"
        },
        {
          "output_type": "error",
          "ename": "WebserviceException",
          "evalue": "WebserviceException:\n\tMessage: Service deployment polling reached non-successful terminal state, current service state: Transitioning\nOperation ID: 7777de4a-c33f-4dd0-8386-039caf994256\nMore information can be found using '.get_logs()'\nError:\n{\n  \"code\": \"DeploymentTimedOut\",\n  \"statusCode\": 504,\n  \"message\": \"Timed out waiting for AKS deployment to complete. pollTimeout : 00:20:00 serviceName: breast-cancer-custom-service serviceId: 16339ae6-e93b-404f-87df-917b87bd5cc7\",\n  \"details\": [\n    {\n      \"code\": \"DeploymentTimedOut\",\n      \"message\": \"Your container endpoint is not available. Please follow the steps to debug:\n\t1. From the AML SDK, you can run print(service.get_logs()) if you have service object to fetch the logs. Please refer to https://aka.ms/debugimage#dockerlog for more information.\n\t2. You can also interactively debug your scoring file locally. Please refer to https://docs.microsoft.com/azure/machine-learning/how-to-debug-visual-studio-code#debug-and-troubleshoot-deployments for more information.\n\t3. For AKS deployment with custom certificate, you need to update your DNS record to point to the IP address of scoring endpoint. Please refer to https://docs.microsoft.com/azure/machine-learning/how-to-secure-web-service#update-your-dns for more information.\n\t4. View the diagnostic events to check status of container, it may help you to debug the issue.\n{\"InvolvedObject\":\"breast-cancer-custom-service-5d79cb7656-cd6h2\",\"InvolvedKind\":\"Pod\",\"Type\":\"Normal\",\"Reason\":\"Scheduled\",\"Message\":\"Successfully assigned azureml-cdh-azml-dev-mlw/breast-cancer-custom-service-5d79cb7656-cd6h2 to aks-agentpool-41265225-vmss000000\",\"LastTimestamp\":\"2022-09-06T18:14:49Z\"}\n{\"InvolvedObject\":\"breast-cancer-custom-service-5d79cb7656-cd6h2\",\"InvolvedKind\":\"Pod\",\"Type\":\"Warning\",\"Reason\":\"FailedMount\",\"Message\":\"MountVolume.MountDevice failed for volume \"breast-cancer-custom-service0c15c8cd891f4e119fc1dd716946c1ac-pvc\" : kubernetes.io/csi: attacher.MountDevice failed to create newCsiDriverClient: driver name blob.csi.azure.com not found in the list of registered CSI drivers\",\"LastTimestamp\":\"2022-09-06T18:15:22Z\"}\n{\"InvolvedObject\":\"breast-cancer-custom-service-5d79cb7656-cd6h2\",\"InvolvedKind\":\"Pod\",\"Type\":\"Warning\",\"Reason\":\"FailedMount\",\"Message\":\"Unable to attach or mount volumes: unmounted volumes=[staging], unattached volumes=[kube-api-access-qhw7v staging structure emptymount]: timed out waiting for the condition\",\"LastTimestamp\":\"2022-09-06T18:25:55Z\"}\n{\"InvolvedObject\":\"breast-cancer-custom-service-5d79cb7656-cd6h2\",\"InvolvedKind\":\"Pod\",\"Type\":\"Warning\",\"Reason\":\"FailedMount\",\"Message\":\"Unable to attach or mount volumes: unmounted volumes=[staging], unattached volumes=[emptymount kube-api-access-qhw7v staging structure]: timed out waiting for the condition\",\"LastTimestamp\":\"2022-09-06T18:28:13Z\"}\n{\"InvolvedObject\":\"breast-cancer-custom-service-5d79cb7656-cd6h2\",\"InvolvedKind\":\"Pod\",\"Type\":\"Warning\",\"Reason\":\"FailedMount\",\"Message\":\"Unable to attach or mount volumes: unmounted volumes=[staging], unattached volumes=[staging structure emptymount kube-api-access-qhw7v]: timed out waiting for the condition\",\"LastTimestamp\":\"2022-09-06T18:30:28Z\"}\n{\"InvolvedObject\":\"breast-cancer-custom-service-5d79cb7656-cd6h2\",\"InvolvedKind\":\"Pod\",\"Type\":\"Warning\",\"Reason\":\"FailedMount\",\"Message\":\"Unable to attach or mount volumes: unmounted volumes=[staging], unattached volumes=[structure emptymount kube-api-access-qhw7v staging]: timed out waiting for the condition\",\"LastTimestamp\":\"2022-09-06T18:32:45Z\"}\n{\"InvolvedObject\":\"breast-cancer-custom-service-5d79cb7656-cd6h2\",\"InvolvedKind\":\"Pod\",\"Type\":\"Warning\",\"Reason\":\"FailedMount\",\"Message\":\"MountVolume.MountDevice failed for volume \"breast-cancer-custom-service0c15c8cd891f4e119fc1dd716946c1ac-pvc\" : rpc error: code = Unknown desc = Mount failed with error: exit status 255, output: Unable to start blobfuse. Failed to connect to the storage container. There might be something wrong about the storage config, please double check the storage account name, account key/sas token/OAuth access token and container name. errno=403\nUnable to start blobfuse due to authentication or connectivity issues. Please check the readme for valid auth setups.\nno config filedone reading env vars\",\"LastTimestamp\":\"2022-09-06T18:33:16Z\"}\n\"\n    }\n  ]\n}\n\tInnerException None\n\tErrorResponse \n{\n    \"error\": {\n        \"message\": \"Service deployment polling reached non-successful terminal state, current service state: Transitioning\\nOperation ID: 7777de4a-c33f-4dd0-8386-039caf994256\\nMore information can be found using '.get_logs()'\\nError:\\n{\\n  \\\"code\\\": \\\"DeploymentTimedOut\\\",\\n  \\\"statusCode\\\": 504,\\n  \\\"message\\\": \\\"Timed out waiting for AKS deployment to complete. pollTimeout : 00:20:00 serviceName: breast-cancer-custom-service serviceId: 16339ae6-e93b-404f-87df-917b87bd5cc7\\\",\\n  \\\"details\\\": [\\n    {\\n      \\\"code\\\": \\\"DeploymentTimedOut\\\",\\n      \\\"message\\\": \\\"Your container endpoint is not available. Please follow the steps to debug:\\n\\t1. From the AML SDK, you can run print(service.get_logs()) if you have service object to fetch the logs. Please refer to https://aka.ms/debugimage#dockerlog for more information.\\n\\t2. You can also interactively debug your scoring file locally. Please refer to https://docs.microsoft.com/azure/machine-learning/how-to-debug-visual-studio-code#debug-and-troubleshoot-deployments for more information.\\n\\t3. For AKS deployment with custom certificate, you need to update your DNS record to point to the IP address of scoring endpoint. Please refer to https://docs.microsoft.com/azure/machine-learning/how-to-secure-web-service#update-your-dns for more information.\\n\\t4. View the diagnostic events to check status of container, it may help you to debug the issue.\\n{\\\"InvolvedObject\\\":\\\"breast-cancer-custom-service-5d79cb7656-cd6h2\\\",\\\"InvolvedKind\\\":\\\"Pod\\\",\\\"Type\\\":\\\"Normal\\\",\\\"Reason\\\":\\\"Scheduled\\\",\\\"Message\\\":\\\"Successfully assigned azureml-cdh-azml-dev-mlw/breast-cancer-custom-service-5d79cb7656-cd6h2 to aks-agentpool-41265225-vmss000000\\\",\\\"LastTimestamp\\\":\\\"2022-09-06T18:14:49Z\\\"}\\n{\\\"InvolvedObject\\\":\\\"breast-cancer-custom-service-5d79cb7656-cd6h2\\\",\\\"InvolvedKind\\\":\\\"Pod\\\",\\\"Type\\\":\\\"Warning\\\",\\\"Reason\\\":\\\"FailedMount\\\",\\\"Message\\\":\\\"MountVolume.MountDevice failed for volume \\\"breast-cancer-custom-service0c15c8cd891f4e119fc1dd716946c1ac-pvc\\\" : kubernetes.io/csi: attacher.MountDevice failed to create newCsiDriverClient: driver name blob.csi.azure.com not found in the list of registered CSI drivers\\\",\\\"LastTimestamp\\\":\\\"2022-09-06T18:15:22Z\\\"}\\n{\\\"InvolvedObject\\\":\\\"breast-cancer-custom-service-5d79cb7656-cd6h2\\\",\\\"InvolvedKind\\\":\\\"Pod\\\",\\\"Type\\\":\\\"Warning\\\",\\\"Reason\\\":\\\"FailedMount\\\",\\\"Message\\\":\\\"Unable to attach or mount volumes: unmounted volumes=[staging], unattached volumes=[kube-api-access-qhw7v staging structure emptymount]: timed out waiting for the condition\\\",\\\"LastTimestamp\\\":\\\"2022-09-06T18:25:55Z\\\"}\\n{\\\"InvolvedObject\\\":\\\"breast-cancer-custom-service-5d79cb7656-cd6h2\\\",\\\"InvolvedKind\\\":\\\"Pod\\\",\\\"Type\\\":\\\"Warning\\\",\\\"Reason\\\":\\\"FailedMount\\\",\\\"Message\\\":\\\"Unable to attach or mount volumes: unmounted volumes=[staging], unattached volumes=[emptymount kube-api-access-qhw7v staging structure]: timed out waiting for the condition\\\",\\\"LastTimestamp\\\":\\\"2022-09-06T18:28:13Z\\\"}\\n{\\\"InvolvedObject\\\":\\\"breast-cancer-custom-service-5d79cb7656-cd6h2\\\",\\\"InvolvedKind\\\":\\\"Pod\\\",\\\"Type\\\":\\\"Warning\\\",\\\"Reason\\\":\\\"FailedMount\\\",\\\"Message\\\":\\\"Unable to attach or mount volumes: unmounted volumes=[staging], unattached volumes=[staging structure emptymount kube-api-access-qhw7v]: timed out waiting for the condition\\\",\\\"LastTimestamp\\\":\\\"2022-09-06T18:30:28Z\\\"}\\n{\\\"InvolvedObject\\\":\\\"breast-cancer-custom-service-5d79cb7656-cd6h2\\\",\\\"InvolvedKind\\\":\\\"Pod\\\",\\\"Type\\\":\\\"Warning\\\",\\\"Reason\\\":\\\"FailedMount\\\",\\\"Message\\\":\\\"Unable to attach or mount volumes: unmounted volumes=[staging], unattached volumes=[structure emptymount kube-api-access-qhw7v staging]: timed out waiting for the condition\\\",\\\"LastTimestamp\\\":\\\"2022-09-06T18:32:45Z\\\"}\\n{\\\"InvolvedObject\\\":\\\"breast-cancer-custom-service-5d79cb7656-cd6h2\\\",\\\"InvolvedKind\\\":\\\"Pod\\\",\\\"Type\\\":\\\"Warning\\\",\\\"Reason\\\":\\\"FailedMount\\\",\\\"Message\\\":\\\"MountVolume.MountDevice failed for volume \\\"breast-cancer-custom-service0c15c8cd891f4e119fc1dd716946c1ac-pvc\\\" : rpc error: code = Unknown desc = Mount failed with error: exit status 255, output: Unable to start blobfuse. Failed to connect to the storage container. There might be something wrong about the storage config, please double check the storage account name, account key/sas token/OAuth access token and container name. errno=403\\nUnable to start blobfuse due to authentication or connectivity issues. Please check the readme for valid auth setups.\\nno config filedone reading env vars\\\",\\\"LastTimestamp\\\":\\\"2022-09-06T18:33:16Z\\\"}\\n\\\"\\n    }\\n  ]\\n}\"\n    }\n}",
          "traceback": [
            "\u001b[0;31m---------------------------------------------------------------------------\u001b[0m",
            "\u001b[0;31mWebserviceException\u001b[0m                       Traceback (most recent call last)",
            "Input \u001b[0;32mIn [50]\u001b[0m, in \u001b[0;36m<cell line: 16>\u001b[0;34m()\u001b[0m\n\u001b[1;32m      9\u001b[0m deployment_config \u001b[38;5;241m=\u001b[39m AksWebservice\u001b[38;5;241m.\u001b[39mdeploy_configuration(cpu_cores \u001b[38;5;241m=\u001b[39m \u001b[38;5;241m1\u001b[39m, memory_gb \u001b[38;5;241m=\u001b[39m \u001b[38;5;241m1\u001b[39m)\n\u001b[1;32m     10\u001b[0m service \u001b[38;5;241m=\u001b[39m Model\u001b[38;5;241m.\u001b[39mdeploy(ws, \n\u001b[1;32m     11\u001b[0m                         service_name, \n\u001b[1;32m     12\u001b[0m                         [model], \n\u001b[1;32m     13\u001b[0m                         inference_config, \n\u001b[1;32m     14\u001b[0m                         deployment_config, \n\u001b[1;32m     15\u001b[0m                         aks_target)\n\u001b[0;32m---> 16\u001b[0m \u001b[43mservice\u001b[49m\u001b[38;5;241;43m.\u001b[39;49m\u001b[43mwait_for_deployment\u001b[49m\u001b[43m(\u001b[49m\u001b[43mshow_output\u001b[49m\u001b[43m \u001b[49m\u001b[38;5;241;43m=\u001b[39;49m\u001b[43m \u001b[49m\u001b[38;5;28;43;01mTrue\u001b[39;49;00m\u001b[43m)\u001b[49m\n\u001b[1;32m     17\u001b[0m \u001b[38;5;28mprint\u001b[39m(service\u001b[38;5;241m.\u001b[39mstate)\n\u001b[1;32m     18\u001b[0m \u001b[38;5;28mprint\u001b[39m(service\u001b[38;5;241m.\u001b[39mget_logs())\n",
            "File \u001b[0;32m/anaconda/envs/azureml_py38/lib/python3.8/site-packages/azureml/core/webservice/webservice.py:918\u001b[0m, in \u001b[0;36mWebservice.wait_for_deployment\u001b[0;34m(self, show_output, timeout_sec)\u001b[0m\n\u001b[1;32m    915\u001b[0m         \u001b[38;5;28;01mif\u001b[39;00m \u001b[38;5;129;01mnot\u001b[39;00m logs_response:\n\u001b[1;32m    916\u001b[0m             logs_response \u001b[38;5;241m=\u001b[39m \u001b[38;5;124m'\u001b[39m\u001b[38;5;124mCurrent sub-operation type not known, more logs unavailable.\u001b[39m\u001b[38;5;124m'\u001b[39m\n\u001b[0;32m--> 918\u001b[0m         \u001b[38;5;28;01mraise\u001b[39;00m WebserviceException(\u001b[38;5;124m'\u001b[39m\u001b[38;5;124mService deployment polling reached non-successful terminal state, current \u001b[39m\u001b[38;5;124m'\u001b[39m\n\u001b[1;32m    919\u001b[0m                                   \u001b[38;5;124m'\u001b[39m\u001b[38;5;124mservice state: \u001b[39m\u001b[38;5;132;01m{}\u001b[39;00m\u001b[38;5;130;01m\\n\u001b[39;00m\u001b[38;5;124m'\u001b[39m\n\u001b[1;32m    920\u001b[0m                                   \u001b[38;5;124m'\u001b[39m\u001b[38;5;124mOperation ID: \u001b[39m\u001b[38;5;132;01m{}\u001b[39;00m\u001b[38;5;130;01m\\n\u001b[39;00m\u001b[38;5;124m'\u001b[39m\n\u001b[1;32m    921\u001b[0m                                   \u001b[38;5;124m'\u001b[39m\u001b[38;5;132;01m{}\u001b[39;00m\u001b[38;5;130;01m\\n\u001b[39;00m\u001b[38;5;124m'\u001b[39m\n\u001b[1;32m    922\u001b[0m                                   \u001b[38;5;124m'\u001b[39m\u001b[38;5;124mError:\u001b[39m\u001b[38;5;130;01m\\n\u001b[39;00m\u001b[38;5;124m'\u001b[39m\n\u001b[1;32m    923\u001b[0m                                   \u001b[38;5;124m'\u001b[39m\u001b[38;5;132;01m{}\u001b[39;00m\u001b[38;5;124m'\u001b[39m\u001b[38;5;241m.\u001b[39mformat(\u001b[38;5;28mself\u001b[39m\u001b[38;5;241m.\u001b[39mstate, \u001b[38;5;28mself\u001b[39m\u001b[38;5;241m.\u001b[39m_operation_endpoint\u001b[38;5;241m.\u001b[39msplit(\u001b[38;5;124m'\u001b[39m\u001b[38;5;124m/\u001b[39m\u001b[38;5;124m'\u001b[39m)[\u001b[38;5;241m-\u001b[39m\u001b[38;5;241m1\u001b[39m],\n\u001b[1;32m    924\u001b[0m                                               logs_response, format_error_response), logger\u001b[38;5;241m=\u001b[39mmodule_logger)\n\u001b[1;32m    925\u001b[0m     \u001b[38;5;28mprint\u001b[39m(\u001b[38;5;124m'\u001b[39m\u001b[38;5;132;01m{}\u001b[39;00m\u001b[38;5;124m service creation operation finished, operation \u001b[39m\u001b[38;5;124m\"\u001b[39m\u001b[38;5;132;01m{}\u001b[39;00m\u001b[38;5;124m\"\u001b[39m\u001b[38;5;124m'\u001b[39m\u001b[38;5;241m.\u001b[39mformat(\u001b[38;5;28mself\u001b[39m\u001b[38;5;241m.\u001b[39m_webservice_type,\n\u001b[1;32m    926\u001b[0m                                                                           operation_state))\n\u001b[1;32m    927\u001b[0m \u001b[38;5;28;01mexcept\u001b[39;00m WebserviceException \u001b[38;5;28;01mas\u001b[39;00m e:\n",
            "\u001b[0;31mWebserviceException\u001b[0m: WebserviceException:\n\tMessage: Service deployment polling reached non-successful terminal state, current service state: Transitioning\nOperation ID: 7777de4a-c33f-4dd0-8386-039caf994256\nMore information can be found using '.get_logs()'\nError:\n{\n  \"code\": \"DeploymentTimedOut\",\n  \"statusCode\": 504,\n  \"message\": \"Timed out waiting for AKS deployment to complete. pollTimeout : 00:20:00 serviceName: breast-cancer-custom-service serviceId: 16339ae6-e93b-404f-87df-917b87bd5cc7\",\n  \"details\": [\n    {\n      \"code\": \"DeploymentTimedOut\",\n      \"message\": \"Your container endpoint is not available. Please follow the steps to debug:\n\t1. From the AML SDK, you can run print(service.get_logs()) if you have service object to fetch the logs. Please refer to https://aka.ms/debugimage#dockerlog for more information.\n\t2. You can also interactively debug your scoring file locally. Please refer to https://docs.microsoft.com/azure/machine-learning/how-to-debug-visual-studio-code#debug-and-troubleshoot-deployments for more information.\n\t3. For AKS deployment with custom certificate, you need to update your DNS record to point to the IP address of scoring endpoint. Please refer to https://docs.microsoft.com/azure/machine-learning/how-to-secure-web-service#update-your-dns for more information.\n\t4. View the diagnostic events to check status of container, it may help you to debug the issue.\n{\"InvolvedObject\":\"breast-cancer-custom-service-5d79cb7656-cd6h2\",\"InvolvedKind\":\"Pod\",\"Type\":\"Normal\",\"Reason\":\"Scheduled\",\"Message\":\"Successfully assigned azureml-cdh-azml-dev-mlw/breast-cancer-custom-service-5d79cb7656-cd6h2 to aks-agentpool-41265225-vmss000000\",\"LastTimestamp\":\"2022-09-06T18:14:49Z\"}\n{\"InvolvedObject\":\"breast-cancer-custom-service-5d79cb7656-cd6h2\",\"InvolvedKind\":\"Pod\",\"Type\":\"Warning\",\"Reason\":\"FailedMount\",\"Message\":\"MountVolume.MountDevice failed for volume \"breast-cancer-custom-service0c15c8cd891f4e119fc1dd716946c1ac-pvc\" : kubernetes.io/csi: attacher.MountDevice failed to create newCsiDriverClient: driver name blob.csi.azure.com not found in the list of registered CSI drivers\",\"LastTimestamp\":\"2022-09-06T18:15:22Z\"}\n{\"InvolvedObject\":\"breast-cancer-custom-service-5d79cb7656-cd6h2\",\"InvolvedKind\":\"Pod\",\"Type\":\"Warning\",\"Reason\":\"FailedMount\",\"Message\":\"Unable to attach or mount volumes: unmounted volumes=[staging], unattached volumes=[kube-api-access-qhw7v staging structure emptymount]: timed out waiting for the condition\",\"LastTimestamp\":\"2022-09-06T18:25:55Z\"}\n{\"InvolvedObject\":\"breast-cancer-custom-service-5d79cb7656-cd6h2\",\"InvolvedKind\":\"Pod\",\"Type\":\"Warning\",\"Reason\":\"FailedMount\",\"Message\":\"Unable to attach or mount volumes: unmounted volumes=[staging], unattached volumes=[emptymount kube-api-access-qhw7v staging structure]: timed out waiting for the condition\",\"LastTimestamp\":\"2022-09-06T18:28:13Z\"}\n{\"InvolvedObject\":\"breast-cancer-custom-service-5d79cb7656-cd6h2\",\"InvolvedKind\":\"Pod\",\"Type\":\"Warning\",\"Reason\":\"FailedMount\",\"Message\":\"Unable to attach or mount volumes: unmounted volumes=[staging], unattached volumes=[staging structure emptymount kube-api-access-qhw7v]: timed out waiting for the condition\",\"LastTimestamp\":\"2022-09-06T18:30:28Z\"}\n{\"InvolvedObject\":\"breast-cancer-custom-service-5d79cb7656-cd6h2\",\"InvolvedKind\":\"Pod\",\"Type\":\"Warning\",\"Reason\":\"FailedMount\",\"Message\":\"Unable to attach or mount volumes: unmounted volumes=[staging], unattached volumes=[structure emptymount kube-api-access-qhw7v staging]: timed out waiting for the condition\",\"LastTimestamp\":\"2022-09-06T18:32:45Z\"}\n{\"InvolvedObject\":\"breast-cancer-custom-service-5d79cb7656-cd6h2\",\"InvolvedKind\":\"Pod\",\"Type\":\"Warning\",\"Reason\":\"FailedMount\",\"Message\":\"MountVolume.MountDevice failed for volume \"breast-cancer-custom-service0c15c8cd891f4e119fc1dd716946c1ac-pvc\" : rpc error: code = Unknown desc = Mount failed with error: exit status 255, output: Unable to start blobfuse. Failed to connect to the storage container. There might be something wrong about the storage config, please double check the storage account name, account key/sas token/OAuth access token and container name. errno=403\nUnable to start blobfuse due to authentication or connectivity issues. Please check the readme for valid auth setups.\nno config filedone reading env vars\",\"LastTimestamp\":\"2022-09-06T18:33:16Z\"}\n\"\n    }\n  ]\n}\n\tInnerException None\n\tErrorResponse \n{\n    \"error\": {\n        \"message\": \"Service deployment polling reached non-successful terminal state, current service state: Transitioning\\nOperation ID: 7777de4a-c33f-4dd0-8386-039caf994256\\nMore information can be found using '.get_logs()'\\nError:\\n{\\n  \\\"code\\\": \\\"DeploymentTimedOut\\\",\\n  \\\"statusCode\\\": 504,\\n  \\\"message\\\": \\\"Timed out waiting for AKS deployment to complete. pollTimeout : 00:20:00 serviceName: breast-cancer-custom-service serviceId: 16339ae6-e93b-404f-87df-917b87bd5cc7\\\",\\n  \\\"details\\\": [\\n    {\\n      \\\"code\\\": \\\"DeploymentTimedOut\\\",\\n      \\\"message\\\": \\\"Your container endpoint is not available. Please follow the steps to debug:\\n\\t1. From the AML SDK, you can run print(service.get_logs()) if you have service object to fetch the logs. Please refer to https://aka.ms/debugimage#dockerlog for more information.\\n\\t2. You can also interactively debug your scoring file locally. Please refer to https://docs.microsoft.com/azure/machine-learning/how-to-debug-visual-studio-code#debug-and-troubleshoot-deployments for more information.\\n\\t3. For AKS deployment with custom certificate, you need to update your DNS record to point to the IP address of scoring endpoint. Please refer to https://docs.microsoft.com/azure/machine-learning/how-to-secure-web-service#update-your-dns for more information.\\n\\t4. View the diagnostic events to check status of container, it may help you to debug the issue.\\n{\\\"InvolvedObject\\\":\\\"breast-cancer-custom-service-5d79cb7656-cd6h2\\\",\\\"InvolvedKind\\\":\\\"Pod\\\",\\\"Type\\\":\\\"Normal\\\",\\\"Reason\\\":\\\"Scheduled\\\",\\\"Message\\\":\\\"Successfully assigned azureml-cdh-azml-dev-mlw/breast-cancer-custom-service-5d79cb7656-cd6h2 to aks-agentpool-41265225-vmss000000\\\",\\\"LastTimestamp\\\":\\\"2022-09-06T18:14:49Z\\\"}\\n{\\\"InvolvedObject\\\":\\\"breast-cancer-custom-service-5d79cb7656-cd6h2\\\",\\\"InvolvedKind\\\":\\\"Pod\\\",\\\"Type\\\":\\\"Warning\\\",\\\"Reason\\\":\\\"FailedMount\\\",\\\"Message\\\":\\\"MountVolume.MountDevice failed for volume \\\"breast-cancer-custom-service0c15c8cd891f4e119fc1dd716946c1ac-pvc\\\" : kubernetes.io/csi: attacher.MountDevice failed to create newCsiDriverClient: driver name blob.csi.azure.com not found in the list of registered CSI drivers\\\",\\\"LastTimestamp\\\":\\\"2022-09-06T18:15:22Z\\\"}\\n{\\\"InvolvedObject\\\":\\\"breast-cancer-custom-service-5d79cb7656-cd6h2\\\",\\\"InvolvedKind\\\":\\\"Pod\\\",\\\"Type\\\":\\\"Warning\\\",\\\"Reason\\\":\\\"FailedMount\\\",\\\"Message\\\":\\\"Unable to attach or mount volumes: unmounted volumes=[staging], unattached volumes=[kube-api-access-qhw7v staging structure emptymount]: timed out waiting for the condition\\\",\\\"LastTimestamp\\\":\\\"2022-09-06T18:25:55Z\\\"}\\n{\\\"InvolvedObject\\\":\\\"breast-cancer-custom-service-5d79cb7656-cd6h2\\\",\\\"InvolvedKind\\\":\\\"Pod\\\",\\\"Type\\\":\\\"Warning\\\",\\\"Reason\\\":\\\"FailedMount\\\",\\\"Message\\\":\\\"Unable to attach or mount volumes: unmounted volumes=[staging], unattached volumes=[emptymount kube-api-access-qhw7v staging structure]: timed out waiting for the condition\\\",\\\"LastTimestamp\\\":\\\"2022-09-06T18:28:13Z\\\"}\\n{\\\"InvolvedObject\\\":\\\"breast-cancer-custom-service-5d79cb7656-cd6h2\\\",\\\"InvolvedKind\\\":\\\"Pod\\\",\\\"Type\\\":\\\"Warning\\\",\\\"Reason\\\":\\\"FailedMount\\\",\\\"Message\\\":\\\"Unable to attach or mount volumes: unmounted volumes=[staging], unattached volumes=[staging structure emptymount kube-api-access-qhw7v]: timed out waiting for the condition\\\",\\\"LastTimestamp\\\":\\\"2022-09-06T18:30:28Z\\\"}\\n{\\\"InvolvedObject\\\":\\\"breast-cancer-custom-service-5d79cb7656-cd6h2\\\",\\\"InvolvedKind\\\":\\\"Pod\\\",\\\"Type\\\":\\\"Warning\\\",\\\"Reason\\\":\\\"FailedMount\\\",\\\"Message\\\":\\\"Unable to attach or mount volumes: unmounted volumes=[staging], unattached volumes=[structure emptymount kube-api-access-qhw7v staging]: timed out waiting for the condition\\\",\\\"LastTimestamp\\\":\\\"2022-09-06T18:32:45Z\\\"}\\n{\\\"InvolvedObject\\\":\\\"breast-cancer-custom-service-5d79cb7656-cd6h2\\\",\\\"InvolvedKind\\\":\\\"Pod\\\",\\\"Type\\\":\\\"Warning\\\",\\\"Reason\\\":\\\"FailedMount\\\",\\\"Message\\\":\\\"MountVolume.MountDevice failed for volume \\\"breast-cancer-custom-service0c15c8cd891f4e119fc1dd716946c1ac-pvc\\\" : rpc error: code = Unknown desc = Mount failed with error: exit status 255, output: Unable to start blobfuse. Failed to connect to the storage container. There might be something wrong about the storage config, please double check the storage account name, account key/sas token/OAuth access token and container name. errno=403\\nUnable to start blobfuse due to authentication or connectivity issues. Please check the readme for valid auth setups.\\nno config filedone reading env vars\\\",\\\"LastTimestamp\\\":\\\"2022-09-06T18:33:16Z\\\"}\\n\\\"\\n    }\\n  ]\\n}\"\n    }\n}"
          ]
        }
      ],
      "execution_count": 50,
      "metadata": {
        "jupyter": {
          "source_hidden": false,
          "outputs_hidden": false
        },
        "nteract": {
          "transient": {
            "deleting": false
          }
        },
        "gather": {
          "logged": 1662489304081
        }
      }
    }
  ],
  "metadata": {
    "kernelspec": {
      "name": "python38-azureml",
      "language": "python",
      "display_name": "Python 3.8 - AzureML"
    },
    "language_info": {
      "name": "python",
      "version": "3.8.13",
      "mimetype": "text/x-python",
      "codemirror_mode": {
        "name": "ipython",
        "version": 3
      },
      "pygments_lexer": "ipython3",
      "nbconvert_exporter": "python",
      "file_extension": ".py"
    },
    "kernel_info": {
      "name": "python38-azureml"
    },
    "microsoft": {
      "host": {
        "AzureML": {
          "notebookHasBeenCompleted": true
        }
      }
    },
    "nteract": {
      "version": "nteract-front-end@1.0.0"
    }
  },
  "nbformat": 4,
  "nbformat_minor": 2
}